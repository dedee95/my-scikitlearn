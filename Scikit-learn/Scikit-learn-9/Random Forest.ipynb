{
 "cells": [
  {
   "cell_type": "markdown",
   "id": "2fa80ac4",
   "metadata": {},
   "source": [
    "## General Workflow Machine Learning \n",
    "<img src='general.png'>"
   ]
  },
  {
   "cell_type": "markdown",
   "id": "6e24e9b3",
   "metadata": {},
   "source": [
    "## Ensemble Learning: Heterogeneous & Homogeneous\n",
    "Regression task menggunakan mean sedangkan classification task menggunakan modus\n",
    "<img src='gabungan_algo.png' style='width:600px'>"
   ]
  },
  {
   "cell_type": "markdown",
   "id": "d86d10c4",
   "metadata": {},
   "source": [
    "## Bagging: Bootstrap Aggregating\n",
    "<img src='bootstrap.png' style='width:600px'>"
   ]
  },
  {
   "cell_type": "markdown",
   "id": "c9b63ced",
   "metadata": {},
   "source": [
    "## Random Forest Classification\n",
    "Hutan acak adalah teknik yang digunakan dalam prediksi pemodelan dan analisis perilaku dan dibangun di atas pohon keputusan. Ini berisi banyak pohon keputusan yang mewakili contoh berbeda dari klasifikasi input data ke dalam hutan acak. Teknik hutan acak mempertimbangkan contoh secara individual, mengambil satu dengan mayoritas suara sebagai prediksi yang dipilih. \n",
    "<img src='https://miro.medium.com/max/2612/0*f_qQPFpdofWGLQqc.png' style='width:600px'>\n",
    "<img src='random_forest.png' style='width:600px'>"
   ]
  },
  {
   "cell_type": "markdown",
   "id": "6156a7d3",
   "metadata": {},
   "source": [
    "### Persipan Dataset"
   ]
  },
  {
   "cell_type": "code",
   "execution_count": 13,
   "id": "6a113c91",
   "metadata": {},
   "outputs": [
    {
     "name": "stdout",
     "output_type": "stream",
     "text": [
      "Dimensi X: (150, 4)\n",
      "Dimensi y: (150,)\n",
      "Class target: {0, 1, 2}\n"
     ]
    }
   ],
   "source": [
    "# menggunakan iris dataset\n",
    "from sklearn.datasets import load_iris\n",
    "\n",
    "X, y = load_iris(return_X_y=True)\n",
    "\n",
    "print(f'Dimensi X: {X.shape}')\n",
    "print(f'Dimensi y: {y.shape}')\n",
    "print(f'Class target: {set(y)}')"
   ]
  },
  {
   "cell_type": "code",
   "execution_count": 12,
   "id": "4a7095e4",
   "metadata": {},
   "outputs": [
    {
     "name": "stdout",
     "output_type": "stream",
     "text": [
      "Dimensi X_train: (105, 4)\n",
      "Dimensi X_test: (45, 4)\n",
      "Dimensi y_train: (105,)\n",
      "Dimensi y_test: (45,)\n"
     ]
    }
   ],
   "source": [
    "# memisahkan dataset ke train dan test\n",
    "from sklearn.model_selection import train_test_split\n",
    "\n",
    "X_train, X_test, y_train, y_test = train_test_split(X,\n",
    "                                                    y,\n",
    "                                                    test_size=.3,\n",
    "                                                    random_state=0)\n",
    "\n",
    "print(f'Dimensi X_train: {X_train.shape}')\n",
    "print(f'Dimensi X_test: {X_test.shape}')\n",
    "print(f'Dimensi y_train: {y_train.shape}')\n",
    "print(f'Dimensi y_test: {y_test.shape}')"
   ]
  },
  {
   "cell_type": "markdown",
   "id": "135e7dba",
   "metadata": {},
   "source": [
    "### Classification: Random Forest"
   ]
  },
  {
   "cell_type": "code",
   "execution_count": 22,
   "id": "0aecc8a6",
   "metadata": {},
   "outputs": [
    {
     "data": {
      "text/plain": [
       "RandomForestClassifier(n_estimators=200, random_state=0)"
      ]
     },
     "execution_count": 22,
     "metadata": {},
     "output_type": "execute_result"
    }
   ],
   "source": [
    "from sklearn.ensemble import RandomForestClassifier\n",
    "\n",
    "model = RandomForestClassifier(n_estimators=200, # train model decision tree sebanyak 200 kali\n",
    "                               random_state=0)\n",
    "\n",
    "model.fit(X_train, y_train)"
   ]
  },
  {
   "cell_type": "markdown",
   "id": "9ad99fa3",
   "metadata": {},
   "source": [
    " ### Evaluation Model"
   ]
  },
  {
   "cell_type": "code",
   "execution_count": 23,
   "id": "b3a3833b",
   "metadata": {},
   "outputs": [
    {
     "name": "stdout",
     "output_type": "stream",
     "text": [
      "              precision    recall  f1-score   support\n",
      "\n",
      "           0       1.00      1.00      1.00        16\n",
      "           1       1.00      0.94      0.97        18\n",
      "           2       0.92      1.00      0.96        11\n",
      "\n",
      "    accuracy                           0.98        45\n",
      "   macro avg       0.97      0.98      0.98        45\n",
      "weighted avg       0.98      0.98      0.98        45\n",
      "\n"
     ]
    }
   ],
   "source": [
    "from sklearn.metrics import classification_report\n",
    "\n",
    "y_pred = model.predict(X_test)\n",
    "\n",
    "print(classification_report(y_test, y_pred))"
   ]
  },
  {
   "cell_type": "code",
   "execution_count": null,
   "id": "2ae51027",
   "metadata": {},
   "outputs": [],
   "source": []
  }
 ],
 "metadata": {
  "kernelspec": {
   "display_name": "Python 3",
   "language": "python",
   "name": "python3"
  },
  "language_info": {
   "codemirror_mode": {
    "name": "ipython",
    "version": 3
   },
   "file_extension": ".py",
   "mimetype": "text/x-python",
   "name": "python",
   "nbconvert_exporter": "python",
   "pygments_lexer": "ipython3",
   "version": "3.8.8"
  }
 },
 "nbformat": 4,
 "nbformat_minor": 5
}
