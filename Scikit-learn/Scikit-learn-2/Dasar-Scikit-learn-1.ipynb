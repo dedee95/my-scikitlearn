{
 "cells": [
  {
   "cell_type": "markdown",
   "id": "3ed29154",
   "metadata": {},
   "source": [
    "# Scikit-learn\n",
    "Scikit-learn adalah library Python yang dikaitkan dengan NumPy dan SciPy. Scikit-learn dianggap sebagai salah satu library terbaik untuk bekerja dengan data yang kompleks.\n",
    "### Dasar dengan data Iris"
   ]
  },
  {
   "cell_type": "code",
   "execution_count": 1,
   "id": "89212079",
   "metadata": {},
   "outputs": [],
   "source": [
    "from sklearn.datasets import load_iris\n",
    "import matplotlib.pyplot as plt"
   ]
  },
  {
   "cell_type": "code",
   "execution_count": 2,
   "id": "de80e40c",
   "metadata": {},
   "outputs": [
    {
     "data": {
      "text/plain": [
       "{'data': array([[5.1, 3.5, 1.4, 0.2],\n",
       "        [4.9, 3. , 1.4, 0.2],\n",
       "        [4.7, 3.2, 1.3, 0.2],\n",
       "        [4.6, 3.1, 1.5, 0.2],\n",
       "        [5. , 3.6, 1.4, 0.2],\n",
       "        [5.4, 3.9, 1.7, 0.4],\n",
       "        [4.6, 3.4, 1.4, 0.3],\n",
       "        [5. , 3.4, 1.5, 0.2],\n",
       "        [4.4, 2.9, 1.4, 0.2],\n",
       "        [4.9, 3.1, 1.5, 0.1],\n",
       "        [5.4, 3.7, 1.5, 0.2],\n",
       "        [4.8, 3.4, 1.6, 0.2],\n",
       "        [4.8, 3. , 1.4, 0.1],\n",
       "        [4.3, 3. , 1.1, 0.1],\n",
       "        [5.8, 4. , 1.2, 0.2],\n",
       "        [5.7, 4.4, 1.5, 0.4],\n",
       "        [5.4, 3.9, 1.3, 0.4],\n",
       "        [5.1, 3.5, 1.4, 0.3],\n",
       "        [5.7, 3.8, 1.7, 0.3],\n",
       "        [5.1, 3.8, 1.5, 0.3],\n",
       "        [5.4, 3.4, 1.7, 0.2],\n",
       "        [5.1, 3.7, 1.5, 0.4],\n",
       "        [4.6, 3.6, 1. , 0.2],\n",
       "        [5.1, 3.3, 1.7, 0.5],\n",
       "        [4.8, 3.4, 1.9, 0.2],\n",
       "        [5. , 3. , 1.6, 0.2],\n",
       "        [5. , 3.4, 1.6, 0.4],\n",
       "        [5.2, 3.5, 1.5, 0.2],\n",
       "        [5.2, 3.4, 1.4, 0.2],\n",
       "        [4.7, 3.2, 1.6, 0.2],\n",
       "        [4.8, 3.1, 1.6, 0.2],\n",
       "        [5.4, 3.4, 1.5, 0.4],\n",
       "        [5.2, 4.1, 1.5, 0.1],\n",
       "        [5.5, 4.2, 1.4, 0.2],\n",
       "        [4.9, 3.1, 1.5, 0.2],\n",
       "        [5. , 3.2, 1.2, 0.2],\n",
       "        [5.5, 3.5, 1.3, 0.2],\n",
       "        [4.9, 3.6, 1.4, 0.1],\n",
       "        [4.4, 3. , 1.3, 0.2],\n",
       "        [5.1, 3.4, 1.5, 0.2],\n",
       "        [5. , 3.5, 1.3, 0.3],\n",
       "        [4.5, 2.3, 1.3, 0.3],\n",
       "        [4.4, 3.2, 1.3, 0.2],\n",
       "        [5. , 3.5, 1.6, 0.6],\n",
       "        [5.1, 3.8, 1.9, 0.4],\n",
       "        [4.8, 3. , 1.4, 0.3],\n",
       "        [5.1, 3.8, 1.6, 0.2],\n",
       "        [4.6, 3.2, 1.4, 0.2],\n",
       "        [5.3, 3.7, 1.5, 0.2],\n",
       "        [5. , 3.3, 1.4, 0.2],\n",
       "        [7. , 3.2, 4.7, 1.4],\n",
       "        [6.4, 3.2, 4.5, 1.5],\n",
       "        [6.9, 3.1, 4.9, 1.5],\n",
       "        [5.5, 2.3, 4. , 1.3],\n",
       "        [6.5, 2.8, 4.6, 1.5],\n",
       "        [5.7, 2.8, 4.5, 1.3],\n",
       "        [6.3, 3.3, 4.7, 1.6],\n",
       "        [4.9, 2.4, 3.3, 1. ],\n",
       "        [6.6, 2.9, 4.6, 1.3],\n",
       "        [5.2, 2.7, 3.9, 1.4],\n",
       "        [5. , 2. , 3.5, 1. ],\n",
       "        [5.9, 3. , 4.2, 1.5],\n",
       "        [6. , 2.2, 4. , 1. ],\n",
       "        [6.1, 2.9, 4.7, 1.4],\n",
       "        [5.6, 2.9, 3.6, 1.3],\n",
       "        [6.7, 3.1, 4.4, 1.4],\n",
       "        [5.6, 3. , 4.5, 1.5],\n",
       "        [5.8, 2.7, 4.1, 1. ],\n",
       "        [6.2, 2.2, 4.5, 1.5],\n",
       "        [5.6, 2.5, 3.9, 1.1],\n",
       "        [5.9, 3.2, 4.8, 1.8],\n",
       "        [6.1, 2.8, 4. , 1.3],\n",
       "        [6.3, 2.5, 4.9, 1.5],\n",
       "        [6.1, 2.8, 4.7, 1.2],\n",
       "        [6.4, 2.9, 4.3, 1.3],\n",
       "        [6.6, 3. , 4.4, 1.4],\n",
       "        [6.8, 2.8, 4.8, 1.4],\n",
       "        [6.7, 3. , 5. , 1.7],\n",
       "        [6. , 2.9, 4.5, 1.5],\n",
       "        [5.7, 2.6, 3.5, 1. ],\n",
       "        [5.5, 2.4, 3.8, 1.1],\n",
       "        [5.5, 2.4, 3.7, 1. ],\n",
       "        [5.8, 2.7, 3.9, 1.2],\n",
       "        [6. , 2.7, 5.1, 1.6],\n",
       "        [5.4, 3. , 4.5, 1.5],\n",
       "        [6. , 3.4, 4.5, 1.6],\n",
       "        [6.7, 3.1, 4.7, 1.5],\n",
       "        [6.3, 2.3, 4.4, 1.3],\n",
       "        [5.6, 3. , 4.1, 1.3],\n",
       "        [5.5, 2.5, 4. , 1.3],\n",
       "        [5.5, 2.6, 4.4, 1.2],\n",
       "        [6.1, 3. , 4.6, 1.4],\n",
       "        [5.8, 2.6, 4. , 1.2],\n",
       "        [5. , 2.3, 3.3, 1. ],\n",
       "        [5.6, 2.7, 4.2, 1.3],\n",
       "        [5.7, 3. , 4.2, 1.2],\n",
       "        [5.7, 2.9, 4.2, 1.3],\n",
       "        [6.2, 2.9, 4.3, 1.3],\n",
       "        [5.1, 2.5, 3. , 1.1],\n",
       "        [5.7, 2.8, 4.1, 1.3],\n",
       "        [6.3, 3.3, 6. , 2.5],\n",
       "        [5.8, 2.7, 5.1, 1.9],\n",
       "        [7.1, 3. , 5.9, 2.1],\n",
       "        [6.3, 2.9, 5.6, 1.8],\n",
       "        [6.5, 3. , 5.8, 2.2],\n",
       "        [7.6, 3. , 6.6, 2.1],\n",
       "        [4.9, 2.5, 4.5, 1.7],\n",
       "        [7.3, 2.9, 6.3, 1.8],\n",
       "        [6.7, 2.5, 5.8, 1.8],\n",
       "        [7.2, 3.6, 6.1, 2.5],\n",
       "        [6.5, 3.2, 5.1, 2. ],\n",
       "        [6.4, 2.7, 5.3, 1.9],\n",
       "        [6.8, 3. , 5.5, 2.1],\n",
       "        [5.7, 2.5, 5. , 2. ],\n",
       "        [5.8, 2.8, 5.1, 2.4],\n",
       "        [6.4, 3.2, 5.3, 2.3],\n",
       "        [6.5, 3. , 5.5, 1.8],\n",
       "        [7.7, 3.8, 6.7, 2.2],\n",
       "        [7.7, 2.6, 6.9, 2.3],\n",
       "        [6. , 2.2, 5. , 1.5],\n",
       "        [6.9, 3.2, 5.7, 2.3],\n",
       "        [5.6, 2.8, 4.9, 2. ],\n",
       "        [7.7, 2.8, 6.7, 2. ],\n",
       "        [6.3, 2.7, 4.9, 1.8],\n",
       "        [6.7, 3.3, 5.7, 2.1],\n",
       "        [7.2, 3.2, 6. , 1.8],\n",
       "        [6.2, 2.8, 4.8, 1.8],\n",
       "        [6.1, 3. , 4.9, 1.8],\n",
       "        [6.4, 2.8, 5.6, 2.1],\n",
       "        [7.2, 3. , 5.8, 1.6],\n",
       "        [7.4, 2.8, 6.1, 1.9],\n",
       "        [7.9, 3.8, 6.4, 2. ],\n",
       "        [6.4, 2.8, 5.6, 2.2],\n",
       "        [6.3, 2.8, 5.1, 1.5],\n",
       "        [6.1, 2.6, 5.6, 1.4],\n",
       "        [7.7, 3. , 6.1, 2.3],\n",
       "        [6.3, 3.4, 5.6, 2.4],\n",
       "        [6.4, 3.1, 5.5, 1.8],\n",
       "        [6. , 3. , 4.8, 1.8],\n",
       "        [6.9, 3.1, 5.4, 2.1],\n",
       "        [6.7, 3.1, 5.6, 2.4],\n",
       "        [6.9, 3.1, 5.1, 2.3],\n",
       "        [5.8, 2.7, 5.1, 1.9],\n",
       "        [6.8, 3.2, 5.9, 2.3],\n",
       "        [6.7, 3.3, 5.7, 2.5],\n",
       "        [6.7, 3. , 5.2, 2.3],\n",
       "        [6.3, 2.5, 5. , 1.9],\n",
       "        [6.5, 3. , 5.2, 2. ],\n",
       "        [6.2, 3.4, 5.4, 2.3],\n",
       "        [5.9, 3. , 5.1, 1.8]]),\n",
       " 'target': array([0, 0, 0, 0, 0, 0, 0, 0, 0, 0, 0, 0, 0, 0, 0, 0, 0, 0, 0, 0, 0, 0,\n",
       "        0, 0, 0, 0, 0, 0, 0, 0, 0, 0, 0, 0, 0, 0, 0, 0, 0, 0, 0, 0, 0, 0,\n",
       "        0, 0, 0, 0, 0, 0, 1, 1, 1, 1, 1, 1, 1, 1, 1, 1, 1, 1, 1, 1, 1, 1,\n",
       "        1, 1, 1, 1, 1, 1, 1, 1, 1, 1, 1, 1, 1, 1, 1, 1, 1, 1, 1, 1, 1, 1,\n",
       "        1, 1, 1, 1, 1, 1, 1, 1, 1, 1, 1, 1, 2, 2, 2, 2, 2, 2, 2, 2, 2, 2,\n",
       "        2, 2, 2, 2, 2, 2, 2, 2, 2, 2, 2, 2, 2, 2, 2, 2, 2, 2, 2, 2, 2, 2,\n",
       "        2, 2, 2, 2, 2, 2, 2, 2, 2, 2, 2, 2, 2, 2, 2, 2, 2, 2]),\n",
       " 'frame': None,\n",
       " 'target_names': array(['setosa', 'versicolor', 'virginica'], dtype='<U10'),\n",
       " 'DESCR': '.. _iris_dataset:\\n\\nIris plants dataset\\n--------------------\\n\\n**Data Set Characteristics:**\\n\\n    :Number of Instances: 150 (50 in each of three classes)\\n    :Number of Attributes: 4 numeric, predictive attributes and the class\\n    :Attribute Information:\\n        - sepal length in cm\\n        - sepal width in cm\\n        - petal length in cm\\n        - petal width in cm\\n        - class:\\n                - Iris-Setosa\\n                - Iris-Versicolour\\n                - Iris-Virginica\\n                \\n    :Summary Statistics:\\n\\n    ============== ==== ==== ======= ===== ====================\\n                    Min  Max   Mean    SD   Class Correlation\\n    ============== ==== ==== ======= ===== ====================\\n    sepal length:   4.3  7.9   5.84   0.83    0.7826\\n    sepal width:    2.0  4.4   3.05   0.43   -0.4194\\n    petal length:   1.0  6.9   3.76   1.76    0.9490  (high!)\\n    petal width:    0.1  2.5   1.20   0.76    0.9565  (high!)\\n    ============== ==== ==== ======= ===== ====================\\n\\n    :Missing Attribute Values: None\\n    :Class Distribution: 33.3% for each of 3 classes.\\n    :Creator: R.A. Fisher\\n    :Donor: Michael Marshall (MARSHALL%PLU@io.arc.nasa.gov)\\n    :Date: July, 1988\\n\\nThe famous Iris database, first used by Sir R.A. Fisher. The dataset is taken\\nfrom Fisher\\'s paper. Note that it\\'s the same as in R, but not as in the UCI\\nMachine Learning Repository, which has two wrong data points.\\n\\nThis is perhaps the best known database to be found in the\\npattern recognition literature.  Fisher\\'s paper is a classic in the field and\\nis referenced frequently to this day.  (See Duda & Hart, for example.)  The\\ndata set contains 3 classes of 50 instances each, where each class refers to a\\ntype of iris plant.  One class is linearly separable from the other 2; the\\nlatter are NOT linearly separable from each other.\\n\\n.. topic:: References\\n\\n   - Fisher, R.A. \"The use of multiple measurements in taxonomic problems\"\\n     Annual Eugenics, 7, Part II, 179-188 (1936); also in \"Contributions to\\n     Mathematical Statistics\" (John Wiley, NY, 1950).\\n   - Duda, R.O., & Hart, P.E. (1973) Pattern Classification and Scene Analysis.\\n     (Q327.D83) John Wiley & Sons.  ISBN 0-471-22361-1.  See page 218.\\n   - Dasarathy, B.V. (1980) \"Nosing Around the Neighborhood: A New System\\n     Structure and Classification Rule for Recognition in Partially Exposed\\n     Environments\".  IEEE Transactions on Pattern Analysis and Machine\\n     Intelligence, Vol. PAMI-2, No. 1, 67-71.\\n   - Gates, G.W. (1972) \"The Reduced Nearest Neighbor Rule\".  IEEE Transactions\\n     on Information Theory, May 1972, 431-433.\\n   - See also: 1988 MLC Proceedings, 54-64.  Cheeseman et al\"s AUTOCLASS II\\n     conceptual clustering system finds 3 classes in the data.\\n   - Many, many more ...',\n",
       " 'feature_names': ['sepal length (cm)',\n",
       "  'sepal width (cm)',\n",
       "  'petal length (cm)',\n",
       "  'petal width (cm)'],\n",
       " 'filename': 'iris.csv',\n",
       " 'data_module': 'sklearn.datasets.data'}"
      ]
     },
     "execution_count": 2,
     "metadata": {},
     "output_type": "execute_result"
    }
   ],
   "source": [
    "# meload dan tampilkan isi data iris dari scikit learn\n",
    "# data dalam bentuk dictionary\n",
    "iris = load_iris()\n",
    "iris"
   ]
  },
  {
   "cell_type": "code",
   "execution_count": 3,
   "id": "247bce76",
   "metadata": {},
   "outputs": [
    {
     "data": {
      "text/plain": [
       "dict_keys(['data', 'target', 'frame', 'target_names', 'DESCR', 'feature_names', 'filename', 'data_module'])"
      ]
     },
     "execution_count": 3,
     "metadata": {},
     "output_type": "execute_result"
    }
   ],
   "source": [
    "# menampilkan key dari iris data set\n",
    "iris.keys()"
   ]
  },
  {
   "cell_type": "code",
   "execution_count": 4,
   "id": "7fb885bc",
   "metadata": {},
   "outputs": [
    {
     "name": "stdout",
     "output_type": "stream",
     "text": [
      ".. _iris_dataset:\n",
      "\n",
      "Iris plants dataset\n",
      "--------------------\n",
      "\n",
      "**Data Set Characteristics:**\n",
      "\n",
      "    :Number of Instances: 150 (50 in each of three classes)\n",
      "    :Number of Attributes: 4 numeric, predictive attributes and the class\n",
      "    :Attribute Information:\n",
      "        - sepal length in cm\n",
      "        - sepal width in cm\n",
      "        - petal length in cm\n",
      "        - petal width in cm\n",
      "        - class:\n",
      "                - Iris-Setosa\n",
      "                - Iris-Versicolour\n",
      "                - Iris-Virginica\n",
      "                \n",
      "    :Summary Statistics:\n",
      "\n",
      "    ============== ==== ==== ======= ===== ====================\n",
      "                    Min  Max   Mean    SD   Class Correlation\n",
      "    ============== ==== ==== ======= ===== ====================\n",
      "    sepal length:   4.3  7.9   5.84   0.83    0.7826\n",
      "    sepal width:    2.0  4.4   3.05   0.43   -0.4194\n",
      "    petal length:   1.0  6.9   3.76   1.76    0.9490  (high!)\n",
      "    petal width:    0.1  2.5   1.20   0.76    0.9565  (high!)\n",
      "    ============== ==== ==== ======= ===== ====================\n",
      "\n",
      "    :Missing Attribute Values: None\n",
      "    :Class Distribution: 33.3% for each of 3 classes.\n",
      "    :Creator: R.A. Fisher\n",
      "    :Donor: Michael Marshall (MARSHALL%PLU@io.arc.nasa.gov)\n",
      "    :Date: July, 1988\n",
      "\n",
      "The famous Iris database, first used by Sir R.A. Fisher. The dataset is taken\n",
      "from Fisher's paper. Note that it's the same as in R, but not as in the UCI\n",
      "Machine Learning Repository, which has two wrong data points.\n",
      "\n",
      "This is perhaps the best known database to be found in the\n",
      "pattern recognition literature.  Fisher's paper is a classic in the field and\n",
      "is referenced frequently to this day.  (See Duda & Hart, for example.)  The\n",
      "data set contains 3 classes of 50 instances each, where each class refers to a\n",
      "type of iris plant.  One class is linearly separable from the other 2; the\n",
      "latter are NOT linearly separable from each other.\n",
      "\n",
      ".. topic:: References\n",
      "\n",
      "   - Fisher, R.A. \"The use of multiple measurements in taxonomic problems\"\n",
      "     Annual Eugenics, 7, Part II, 179-188 (1936); also in \"Contributions to\n",
      "     Mathematical Statistics\" (John Wiley, NY, 1950).\n",
      "   - Duda, R.O., & Hart, P.E. (1973) Pattern Classification and Scene Analysis.\n",
      "     (Q327.D83) John Wiley & Sons.  ISBN 0-471-22361-1.  See page 218.\n",
      "   - Dasarathy, B.V. (1980) \"Nosing Around the Neighborhood: A New System\n",
      "     Structure and Classification Rule for Recognition in Partially Exposed\n",
      "     Environments\".  IEEE Transactions on Pattern Analysis and Machine\n",
      "     Intelligence, Vol. PAMI-2, No. 1, 67-71.\n",
      "   - Gates, G.W. (1972) \"The Reduced Nearest Neighbor Rule\".  IEEE Transactions\n",
      "     on Information Theory, May 1972, 431-433.\n",
      "   - See also: 1988 MLC Proceedings, 54-64.  Cheeseman et al\"s AUTOCLASS II\n",
      "     conceptual clustering system finds 3 classes in the data.\n",
      "   - Many, many more ...\n"
     ]
    }
   ],
   "source": [
    "# membaca deskripsi dari data set iris\n",
    "print(iris['DESCR'])"
   ]
  },
  {
   "cell_type": "markdown",
   "id": "c00e45ba",
   "metadata": {},
   "source": [
    "#### Catatan singkat\n",
    "setelah mempelajari tentang deskripsi dari data set maka selanjutnya adalah mengakses explanatory variabel (feature) dan\n",
    "response variabel (target). Biasanya data dari variabel tersebut akan ditampung menjadi (feature, target) (x,y). selanjutnya adalah melihat ukuran data dan memastikan bahwa jumlah baris antara keduanya sama (x,y) harus selalu memiliki kolerasi. Setelah itu harus mengetahui nama dari masing masing data tersebut. Biasanya untuk lebih mudah memahami data tersebut setelah tau nama data dari isi variabelnya, untuk mempermudah biasanya dilakukan visualisasi."
   ]
  },
  {
   "cell_type": "code",
   "execution_count": 5,
   "id": "e6319d5a",
   "metadata": {},
   "outputs": [
    {
     "data": {
      "text/plain": [
       "(150, 4)"
      ]
     },
     "execution_count": 5,
     "metadata": {},
     "output_type": "execute_result"
    }
   ],
   "source": [
    "# explanatory variabel\n",
    "X = iris.data\n",
    "X.shape "
   ]
  },
  {
   "cell_type": "code",
   "execution_count": 6,
   "id": "0657e16a",
   "metadata": {},
   "outputs": [
    {
     "data": {
      "text/plain": [
       "['sepal length (cm)',\n",
       " 'sepal width (cm)',\n",
       " 'petal length (cm)',\n",
       " 'petal width (cm)']"
      ]
     },
     "execution_count": 6,
     "metadata": {},
     "output_type": "execute_result"
    }
   ],
   "source": [
    "# mengetahui nama dari explanatory variabel\n",
    "feature_name = iris.feature_names\n",
    "feature_name"
   ]
  },
  {
   "cell_type": "code",
   "execution_count": 7,
   "id": "1027150d",
   "metadata": {},
   "outputs": [
    {
     "data": {
      "text/plain": [
       "array([0, 0, 0, 0, 0, 0, 0, 0, 0, 0, 0, 0, 0, 0, 0, 0, 0, 0, 0, 0, 0, 0,\n",
       "       0, 0, 0, 0, 0, 0, 0, 0, 0, 0, 0, 0, 0, 0, 0, 0, 0, 0, 0, 0, 0, 0,\n",
       "       0, 0, 0, 0, 0, 0, 1, 1, 1, 1, 1, 1, 1, 1, 1, 1, 1, 1, 1, 1, 1, 1,\n",
       "       1, 1, 1, 1, 1, 1, 1, 1, 1, 1, 1, 1, 1, 1, 1, 1, 1, 1, 1, 1, 1, 1,\n",
       "       1, 1, 1, 1, 1, 1, 1, 1, 1, 1, 1, 1, 2, 2, 2, 2, 2, 2, 2, 2, 2, 2,\n",
       "       2, 2, 2, 2, 2, 2, 2, 2, 2, 2, 2, 2, 2, 2, 2, 2, 2, 2, 2, 2, 2, 2,\n",
       "       2, 2, 2, 2, 2, 2, 2, 2, 2, 2, 2, 2, 2, 2, 2, 2, 2, 2])"
      ]
     },
     "execution_count": 7,
     "metadata": {},
     "output_type": "execute_result"
    }
   ],
   "source": [
    "# response variabel\n",
    "y = iris.target\n",
    "y"
   ]
  },
  {
   "cell_type": "code",
   "execution_count": 8,
   "id": "ec08ddda",
   "metadata": {},
   "outputs": [
    {
     "data": {
      "text/plain": [
       "array(['setosa', 'versicolor', 'virginica'], dtype='<U10')"
      ]
     },
     "execution_count": 8,
     "metadata": {},
     "output_type": "execute_result"
    }
   ],
   "source": [
    "# mengetahui nama dari response variabel\n",
    "target_name = iris.target_names\n",
    "target_name"
   ]
  },
  {
   "cell_type": "markdown",
   "id": "2d25292e",
   "metadata": {},
   "source": [
    "### Visualisasi"
   ]
  },
  {
   "cell_type": "code",
   "execution_count": 9,
   "id": "a7919ad3",
   "metadata": {},
   "outputs": [
    {
     "data": {
      "image/png": "[encoded data removed]",
      "text/plain": [
       "<Figure size 432x288 with 1 Axes>"
      ]
     },
     "metadata": {
      "needs_background": "light"
     },
     "output_type": "display_data"
    }
   ],
   "source": [
    "# sepal lenght dan sepal width\n",
    "x = X[:, :2]\n",
    "\n",
    "x_min, x_max = X[:, 0].min() - 0.5, X[:, 0].max() + 0.5 # sepal lenght\n",
    "y_min, y_max = X[:, 1].min() - 0.5, X[:, 1].max() + 0.5 # sepal width\n",
    "# untuk min - 0.5 dan max + 0.5 hanya untuk memberikan batas pinggir pada plotingnya sepaya lebih enak dilihat\n",
    "\n",
    "plt.scatter(X[:, 0], X[:, 1], c=y)\n",
    "plt.title('IRIS DATASET')\n",
    "plt.xlabel('sepal lenght')\n",
    "plt.ylabel('sepal width')\n",
    "\n",
    "# menentukan batas dari x axis dan y axis\n",
    "plt.xlim(x_min, x_max)\n",
    "plt.ylim(y_min, y_max)\n",
    "plt.grid(True)\n",
    "\n",
    "plt.show()"
   ]
  },
  {
   "cell_type": "code",
   "execution_count": 10,
   "id": "495e9faa",
   "metadata": {},
   "outputs": [
    {
     "data": {
      "text/plain": [
       "4.3"
      ]
     },
     "execution_count": 10,
     "metadata": {},
     "output_type": "execute_result"
    }
   ],
   "source": [
    "p = X[:, 0].min() \n",
    "p"
   ]
  },
  {
   "cell_type": "markdown",
   "id": "e854a61c",
   "metadata": {},
   "source": [
    "### Training dan Testing Dataset\n",
    "data akan dibagi menjadi dua bagian"
   ]
  },
  {
   "cell_type": "code",
   "execution_count": 11,
   "id": "efc91745",
   "metadata": {},
   "outputs": [
    {
     "name": "stdout",
     "output_type": "stream",
     "text": [
      "x train = (105, 2)\n",
      "x test = (45, 2)\n",
      "y train = (105,)\n",
      "y test = (45,)\n"
     ]
    }
   ],
   "source": [
    "from sklearn.model_selection import train_test_split\n",
    "\n",
    "# untuk membagi neggunakan sklearn maka harus di tampung dengan 4 variabel\n",
    "# split membutuhkan 4 parameter (feature, target, ukuran testing, acakan)\n",
    "x_train, x_test, y_train, y_test = train_test_split(x,\n",
    "                                                    y,\n",
    "                                                    test_size=.3,\n",
    "                                                    random_state=1)\n",
    "\n",
    "# menampilkan ukuran dimensi\n",
    "print(f'x train = {x_train.shape}')\n",
    "print(f'x test = {x_test.shape}')\n",
    "print(f'y train = {y_train.shape}')\n",
    "print(f'y test = {y_test.shape}')"
   ]
  },
  {
   "cell_type": "markdown",
   "id": "711193d0",
   "metadata": {},
   "source": [
    "### Dataset iris dengan Pandas"
   ]
  },
  {
   "cell_type": "code",
   "execution_count": 12,
   "id": "2eab3d4a",
   "metadata": {},
   "outputs": [
    {
     "data": {
      "text/html": [
       "<div>\n",
       "<style scoped>\n",
       "    .dataframe tbody tr th:only-of-type {\n",
       "        vertical-align: middle;\n",
       "    }\n",
       "\n",
       "    .dataframe tbody tr th {\n",
       "        vertical-align: top;\n",
       "    }\n",
       "\n",
       "    .dataframe thead th {\n",
       "        text-align: right;\n",
       "    }\n",
       "</style>\n",
       "<table border=\"1\" class=\"dataframe\">\n",
       "  <thead>\n",
       "    <tr style=\"text-align: right;\">\n",
       "      <th></th>\n",
       "      <th>sepal length (cm)</th>\n",
       "      <th>sepal width (cm)</th>\n",
       "      <th>petal length (cm)</th>\n",
       "      <th>petal width (cm)</th>\n",
       "    </tr>\n",
       "  </thead>\n",
       "  <tbody>\n",
       "    <tr>\n",
       "      <th>0</th>\n",
       "      <td>5.1</td>\n",
       "      <td>3.5</td>\n",
       "      <td>1.4</td>\n",
       "      <td>0.2</td>\n",
       "    </tr>\n",
       "    <tr>\n",
       "      <th>1</th>\n",
       "      <td>4.9</td>\n",
       "      <td>3.0</td>\n",
       "      <td>1.4</td>\n",
       "      <td>0.2</td>\n",
       "    </tr>\n",
       "    <tr>\n",
       "      <th>2</th>\n",
       "      <td>4.7</td>\n",
       "      <td>3.2</td>\n",
       "      <td>1.3</td>\n",
       "      <td>0.2</td>\n",
       "    </tr>\n",
       "    <tr>\n",
       "      <th>3</th>\n",
       "      <td>4.6</td>\n",
       "      <td>3.1</td>\n",
       "      <td>1.5</td>\n",
       "      <td>0.2</td>\n",
       "    </tr>\n",
       "    <tr>\n",
       "      <th>4</th>\n",
       "      <td>5.0</td>\n",
       "      <td>3.6</td>\n",
       "      <td>1.4</td>\n",
       "      <td>0.2</td>\n",
       "    </tr>\n",
       "    <tr>\n",
       "      <th>...</th>\n",
       "      <td>...</td>\n",
       "      <td>...</td>\n",
       "      <td>...</td>\n",
       "      <td>...</td>\n",
       "    </tr>\n",
       "    <tr>\n",
       "      <th>145</th>\n",
       "      <td>6.7</td>\n",
       "      <td>3.0</td>\n",
       "      <td>5.2</td>\n",
       "      <td>2.3</td>\n",
       "    </tr>\n",
       "    <tr>\n",
       "      <th>146</th>\n",
       "      <td>6.3</td>\n",
       "      <td>2.5</td>\n",
       "      <td>5.0</td>\n",
       "      <td>1.9</td>\n",
       "    </tr>\n",
       "    <tr>\n",
       "      <th>147</th>\n",
       "      <td>6.5</td>\n",
       "      <td>3.0</td>\n",
       "      <td>5.2</td>\n",
       "      <td>2.0</td>\n",
       "    </tr>\n",
       "    <tr>\n",
       "      <th>148</th>\n",
       "      <td>6.2</td>\n",
       "      <td>3.4</td>\n",
       "      <td>5.4</td>\n",
       "      <td>2.3</td>\n",
       "    </tr>\n",
       "    <tr>\n",
       "      <th>149</th>\n",
       "      <td>5.9</td>\n",
       "      <td>3.0</td>\n",
       "      <td>5.1</td>\n",
       "      <td>1.8</td>\n",
       "    </tr>\n",
       "  </tbody>\n",
       "</table>\n",
       "<p>150 rows × 4 columns</p>\n",
       "</div>"
      ],
      "text/plain": [
       "     sepal length (cm)  sepal width (cm)  petal length (cm)  petal width (cm)\n",
       "0                  5.1               3.5                1.4               0.2\n",
       "1                  4.9               3.0                1.4               0.2\n",
       "2                  4.7               3.2                1.3               0.2\n",
       "3                  4.6               3.1                1.5               0.2\n",
       "4                  5.0               3.6                1.4               0.2\n",
       "..                 ...               ...                ...               ...\n",
       "145                6.7               3.0                5.2               2.3\n",
       "146                6.3               2.5                5.0               1.9\n",
       "147                6.5               3.0                5.2               2.0\n",
       "148                6.2               3.4                5.4               2.3\n",
       "149                5.9               3.0                5.1               1.8\n",
       "\n",
       "[150 rows x 4 columns]"
      ]
     },
     "execution_count": 12,
     "metadata": {},
     "output_type": "execute_result"
    }
   ],
   "source": [
    "# menampilkan dengan pandas\n",
    "iris = load_iris(as_frame=True)\n",
    "\n",
    "df = iris.data\n",
    "df"
   ]
  },
  {
   "cell_type": "markdown",
   "id": "fe473b6a",
   "metadata": {},
   "source": [
    "# Workflow dengan Scikit-learn"
   ]
  },
  {
   "cell_type": "markdown",
   "id": "7d92f337",
   "metadata": {},
   "source": [
    "### Load Dataset"
   ]
  },
  {
   "cell_type": "code",
   "execution_count": 13,
   "id": "3f1e2247",
   "metadata": {},
   "outputs": [],
   "source": [
    "# meload data dan menaruhnya ke dalam variabel\n",
    "iris = load_iris()\n",
    "\n",
    "x = iris.data\n",
    "y = iris.target"
   ]
  },
  {
   "cell_type": "markdown",
   "id": "466744db",
   "metadata": {},
   "source": [
    "### Spliting Dataset (Training dan Testing)"
   ]
  },
  {
   "cell_type": "code",
   "execution_count": 14,
   "id": "3b249f60",
   "metadata": {},
   "outputs": [],
   "source": [
    "# spliting dataset dengan scikit-learn = hasilkan 4 data\n",
    "x_train, x_test, y_train, y_test = train_test_split(x,\n",
    "                                                    y,\n",
    "                                                    test_size=.4,\n",
    "                                                    random_state=1) # angka radom state terserah (random seed)"
   ]
  },
  {
   "cell_type": "markdown",
   "id": "8a5a51f6",
   "metadata": {},
   "source": [
    "##### catatan\n",
    "*parameter random_state bertujuan untuk dapat memastikan bahwa hasil pembagian dataset konsisten dan memberikan data yang sama setiap kali model dijalankan. Jika tidak ditentukan, maka tiap kali melakukan split, kita akan mendapatkan data train dan tes berbeda, yang juga akan membuat akurasi model ML menjadi berbeda tiap kali di-run.*  "
   ]
  },
  {
   "cell_type": "code",
   "execution_count": 18,
   "id": "9b0bbe32",
   "metadata": {},
   "outputs": [
    {
     "name": "stdout",
     "output_type": "stream",
     "text": [
      "random_state ditentukan\n",
      "[6, 2, 8]\n",
      "[6, 2, 8]\n",
      "[6, 2, 8]\n",
      "\n",
      "random_state tidak ditentukan\n",
      "[9, 0, 3]\n",
      "[4, 5, 1]\n",
      "[0, 3, 2]\n"
     ]
    }
   ],
   "source": [
    "# contoh penggunaan random state dan tidak menggunkana random state\n",
    "from sklearn.model_selection import train_test_split\n",
    "\n",
    "X_data = range(10)\n",
    "y_data = range(10)\n",
    " \n",
    "print(\"random_state ditentukan\")\n",
    "for i in range(3):\n",
    "    X_train, X_test, y_train, y_test = train_test_split(X_data, y_data, test_size = 0.3, random_state = 999)\n",
    "    print(y_test)\n",
    " \n",
    "print()\n",
    "print(\"random_state tidak ditentukan\")\n",
    "for i in range(3):\n",
    "    X_train, X_test, y_train, y_test = train_test_split(X_data, y_data, test_size = 0.3, random_state = None)\n",
    "    print(y_test)"
   ]
  },
  {
   "cell_type": "markdown",
   "id": "a1cc8b9d",
   "metadata": {},
   "source": [
    "### Training model\n",
    "<ul>\n",
    "    <li> Pada Scikit-learn model machine learning dibentuk class <b>estimator.</b> </li>\n",
    "    <li> Setiap estimator mengimplementasikan 2 method utama, fit() dan predict() </li>\n",
    "    <li> Method fit() digunakan untuk training model. </li>\n",
    "    <li> Method predict digunakan untuk melakukan prediksi manfaatkan trained model. </li>\n",
    "</ul>\n",
    "\n",
    "##### Algoritma K-Nearest Neighbor \n",
    "Algoritma KNN merupakan algoritma klasifikasi yang bekerja dengan mengambil sejumlah K data terdekat (tetangganya) sebagai acuan untuk menentukan kelas dari data baru. Algoritma ini mengklasifikasikan data berdasarkan similarity atau kemiripan atau kedekatannya terhadap data lainnya.\n",
    "\n",
    "#### Cara kerja secara umum\n",
    "1. Tentukan jumlah tetangga (K) yang akan digunakan untuk pertimbangan penentuan kelas.\n",
    "2. Hitung jarak dari data baru ke masing-masing data point di dataset.\n",
    "3. Ambil sejumlah K data dengan jarak terdekat, kemudian tentukan kelas dari data baru tersebut."
   ]
  },
  {
   "cell_type": "code",
   "execution_count": 15,
   "id": "4ddaa300",
   "metadata": {},
   "outputs": [
    {
     "data": {
      "text/plain": [
       "KNeighborsClassifier(n_neighbors=3)"
      ]
     },
     "execution_count": 15,
     "metadata": {},
     "output_type": "execute_result"
    }
   ],
   "source": [
    "# menggunakan algoritma KNN\n",
    "from sklearn.neighbors import KNeighborsClassifier\n",
    "\n",
    "# membutuhkan satu pramaeter berapa jumlah tetangga\n",
    "model = KNeighborsClassifier(n_neighbors=3) # sebisa mungkin jumlah tetangga ganjil\n",
    "model.fit(x_train, y_train)"
   ]
  },
  {
   "cell_type": "markdown",
   "id": "741fc61c",
   "metadata": {},
   "source": [
    "### Evaluasi Model"
   ]
  },
  {
   "cell_type": "code",
   "execution_count": 16,
   "id": "d112b3d3",
   "metadata": {},
   "outputs": [
    {
     "name": "stdout",
     "output_type": "stream",
     "text": [
      "Accuracy: 0.9833333333333333\n",
      "acc:\n",
      "\n",
      "               precision    recall  f1-score   support\n",
      "\n",
      "           0       1.00      1.00      1.00        19\n",
      "           1       0.95      1.00      0.98        21\n",
      "           2       1.00      0.95      0.97        20\n",
      "\n",
      "    accuracy                           0.98        60\n",
      "   macro avg       0.98      0.98      0.98        60\n",
      "weighted avg       0.98      0.98      0.98        60\n",
      "\n"
     ]
    }
   ],
   "source": [
    "# evaluasi dengan sklearn\n",
    "from sklearn.metrics import accuracy_score\n",
    "from sklearn.metrics import classification_report\n",
    "\n",
    "# mengevaluasi model yang sudah di train untuk melihat akurasinya\n",
    "y_pred = model.predict(x_test)\n",
    "\n",
    "# membandingkan nilai test dan prediksi\n",
    "acc = accuracy_score(y_test, y_pred)\n",
    "print(f\"Accuracy: {acc}\")\n",
    "\n",
    "acc = classification_report(y_test, y_pred)\n",
    "print(f\"acc:\\n\\n {acc}\")"
   ]
  },
  {
   "cell_type": "markdown",
   "id": "bd16b31e",
   "metadata": {},
   "source": [
    "### Pemanfaatan Trained Model\n",
    "biasanya setelah train model dinilai cukup baik berdasarkan evaluasi maka akan digunakan untuk melakukan prediksi untuk data baru"
   ]
  },
  {
   "cell_type": "code",
   "execution_count": 17,
   "id": "bd5ddcc1",
   "metadata": {},
   "outputs": [
    {
     "data": {
      "text/plain": [
       "array(['setosa', 'versicolor', 'virginica'], dtype='<U10')"
      ]
     },
     "execution_count": 17,
     "metadata": {},
     "output_type": "execute_result"
    }
   ],
   "source": [
    "target_name\n",
    "# 1 = setosa\n",
    "# 2 = versicolor\n",
    "# 3 = virginica"
   ]
  },
  {
   "cell_type": "code",
   "execution_count": 18,
   "id": "fae02d83",
   "metadata": {},
   "outputs": [
    {
     "data": {
      "text/plain": [
       "array([1, 2, 0])"
      ]
     },
     "execution_count": 18,
     "metadata": {},
     "output_type": "execute_result"
    }
   ],
   "source": [
    "data_baru = [[5,5,3,2],\n",
    "             [2,4,3,5],\n",
    "             [1,1,1,1]]\n",
    "prediksi = model.predict(data_baru)\n",
    "\n",
    "# hasil prediksi akan berupa angka untuk target\n",
    "prediksi"
   ]
  },
  {
   "cell_type": "code",
   "execution_count": 19,
   "id": "41acdd4a",
   "metadata": {},
   "outputs": [
    {
     "name": "stdout",
     "output_type": "stream",
     "text": [
      "Hasil prediksi: ['versicolor', 'virginica', 'setosa']\n"
     ]
    }
   ],
   "source": [
    "# menerjemahkan angka hasil prediksi ke target name\n",
    "pred_species = [iris.target_names[i] for i in prediksi]\n",
    "print(f\"Hasil prediksi: {pred_species}\")"
   ]
  },
  {
   "cell_type": "markdown",
   "id": "ad15ffb1",
   "metadata": {},
   "source": [
    "### Dump and Load Trained Model\n",
    "#### Dumping Model File ML menjadi file joblib"
   ]
  },
  {
   "cell_type": "code",
   "execution_count": 20,
   "id": "97c335a6",
   "metadata": {},
   "outputs": [
    {
     "data": {
      "text/plain": [
       "['iris_classifier_KNN.joblib']"
      ]
     },
     "execution_count": 20,
     "metadata": {},
     "output_type": "execute_result"
    }
   ],
   "source": [
    "import joblib\n",
    "\n",
    "joblib.dump(model, \"iris_classifier_KNN.joblib\")"
   ]
  },
  {
   "cell_type": "code",
   "execution_count": 21,
   "id": "b5521905",
   "metadata": {},
   "outputs": [],
   "source": [
    "# Meload file joblib\n",
    "production_model = joblib.load(\"iris_classifier_KNN.joblib\")"
   ]
  },
  {
   "cell_type": "markdown",
   "id": "918c9787",
   "metadata": {},
   "source": [
    "# Data Preprocessing Scikit-learn\n",
    "Preprocessing data adalah tahap penting dalam pembelajaran mesin, karena data masukan yang baik dan tepat (harusnya) akan membuat estimator mampu menghasilkan keluaran yang baik pula."
   ]
  },
  {
   "cell_type": "markdown",
   "id": "23fef77a",
   "metadata": {},
   "source": [
    "### Sample Data"
   ]
  },
  {
   "cell_type": "code",
   "execution_count": 22,
   "id": "2183267d",
   "metadata": {},
   "outputs": [],
   "source": [
    "import numpy as np\n",
    "from sklearn import preprocessing"
   ]
  },
  {
   "cell_type": "code",
   "execution_count": 23,
   "id": "fa0bbc61",
   "metadata": {},
   "outputs": [
    {
     "data": {
      "text/plain": [
       "array([[ 2.1, -1.9,  5.5],\n",
       "       [-1.5,  2.4,  3.5],\n",
       "       [ 0.5, -7.9,  5.6],\n",
       "       [ 5.9,  2.3, -5.8]])"
      ]
     },
     "execution_count": 23,
     "metadata": {},
     "output_type": "execute_result"
    }
   ],
   "source": [
    "# membuat sample data\n",
    "sample_data = np.array([[2.1, -1.9, 5.5],\n",
    "                        [-1.5, 2.4, 3.5],\n",
    "                        [.5, -7.9, 5.6],\n",
    "                        [5.9, 2.3, -5.8]])\n",
    "sample_data"
   ]
  },
  {
   "cell_type": "code",
   "execution_count": 24,
   "id": "6f0a66b3",
   "metadata": {},
   "outputs": [
    {
     "data": {
      "text/plain": [
       "(4, 3)"
      ]
     },
     "execution_count": 24,
     "metadata": {},
     "output_type": "execute_result"
    }
   ],
   "source": [
    "sample_data.shape"
   ]
  },
  {
   "cell_type": "markdown",
   "id": "d3122df3",
   "metadata": {},
   "source": [
    "### Binarisation\n",
    "menghasilkan suatu data yang terdiri dari 2 nilai numeric yaitu 0 dan 1"
   ]
  },
  {
   "cell_type": "code",
   "execution_count": 25,
   "id": "231c1f63",
   "metadata": {
    "scrolled": true
   },
   "outputs": [
    {
     "data": {
      "text/plain": [
       "array([[1., 0., 1.],\n",
       "       [0., 1., 1.],\n",
       "       [0., 0., 1.],\n",
       "       [1., 1., 0.]])"
      ]
     },
     "execution_count": 25,
     "metadata": {},
     "output_type": "execute_result"
    }
   ],
   "source": [
    "# merubah data dengan class binarizer\n",
    "# membutuhkan satu parameter kodisi data yang mau dirubah\n",
    "\n",
    "preprocessor = preprocessing.Binarizer(threshold=.5) # artinya data yang >5 akan dirubah menjadi angka satu\n",
    "binarised_data = preprocessor.transform(sample_data)\n",
    "binarised_data"
   ]
  },
  {
   "cell_type": "markdown",
   "id": "3a3f25d8",
   "metadata": {},
   "source": [
    "### Scaling\n",
    "menghasilkan suatu data berupa numeric yang berada pada rentang skalar tertentu. Scaling data sangat penting, karena banyak algoritma machine learning yang akan bekerja tidak maksimal (bahkan salah), apabila variabel-variabel feature memiliki skala yang berbeda. Sebagai contoh, support vector machine (SVM) akan berperforma buruk jika datanya tidak discaling terlebih dahulu, karena SVM menggunakan fungsi jarak (distance function) untuk optimasinya, contoh: akan terjadi bias, apabila salah satu feature memiliki nilai bervariasi dari 0 hingga 10.000, sedangkan feature lainnya memiliki variasi nilai dari 0 hingga 1."
   ]
  },
  {
   "cell_type": "code",
   "execution_count": 2,
   "id": "4b95dc0b",
   "metadata": {},
   "outputs": [],
   "source": [
    "from sklearn.preprocessing import MinMaxScaler"
   ]
  },
  {
   "cell_type": "code",
   "execution_count": 1,
   "id": "b9a177e8",
   "metadata": {},
   "outputs": [
    {
     "data": {
      "text/plain": [
       "[[12000000, 33], [35000000, 45], [4000000, 23], [6500000, 26], [9000000, 29]]"
      ]
     },
     "execution_count": 1,
     "metadata": {},
     "output_type": "execute_result"
    }
   ],
   "source": [
    "# dataset sederhana\n",
    "data = [[12000000, 33], [35000000, 45], [4000000, 23], [6500000, 26], [9000000, 29]]\n",
    "data"
   ]
  },
  {
   "cell_type": "code",
   "execution_count": 3,
   "id": "c0bbd646",
   "metadata": {},
   "outputs": [
    {
     "data": {
      "text/plain": [
       "MinMaxScaler()"
      ]
     },
     "execution_count": 3,
     "metadata": {},
     "output_type": "execute_result"
    }
   ],
   "source": [
    "scaler = MinMaxScaler()\n",
    "\n",
    "# pada tahap ini fungsi akan menghitung nilai minimum dan maksimum pada tiap kolom.\n",
    "scaler.fit(data)"
   ]
  },
  {
   "cell_type": "code",
   "execution_count": 6,
   "id": "e120d599",
   "metadata": {},
   "outputs": [
    {
     "data": {
      "text/plain": [
       "array([[0.25806452, 0.45454545],\n",
       "       [1.        , 1.        ],\n",
       "       [0.        , 0.        ],\n",
       "       [0.08064516, 0.13636364],\n",
       "       [0.16129032, 0.27272727]])"
      ]
     },
     "execution_count": 6,
     "metadata": {},
     "output_type": "execute_result"
    }
   ],
   "source": [
    "# selanjutnya diperlukan transformasi dari fungsi yang telah di hitung min dan maxnya\n",
    "data = scaler.transform(data)\n",
    "\n",
    "data"
   ]
  },
  {
   "cell_type": "code",
   "execution_count": 26,
   "id": "47f1d229",
   "metadata": {},
   "outputs": [
    {
     "data": {
      "text/plain": [
       "array([[ 2.1, -1.9,  5.5],\n",
       "       [-1.5,  2.4,  3.5],\n",
       "       [ 0.5, -7.9,  5.6],\n",
       "       [ 5.9,  2.3, -5.8]])"
      ]
     },
     "execution_count": 26,
     "metadata": {},
     "output_type": "execute_result"
    }
   ],
   "source": [
    "sample_data"
   ]
  },
  {
   "cell_type": "code",
   "execution_count": 27,
   "id": "05ae9599",
   "metadata": {},
   "outputs": [
    {
     "data": {
      "text/plain": [
       "array([[0.48648649, 0.58252427, 0.99122807],\n",
       "       [0.        , 1.        , 0.81578947],\n",
       "       [0.27027027, 0.        , 1.        ],\n",
       "       [1.        , 0.99029126, 0.        ]])"
      ]
     },
     "execution_count": 27,
     "metadata": {},
     "output_type": "execute_result"
    }
   ],
   "source": [
    "# kebutuhan harus mengkonversi nilai tertentu ke dalam rentang tertentu\n",
    "# memanfaatkan kelas scaler \n",
    "\n",
    "preprocessor = preprocessing.MinMaxScaler(feature_range=(0, 1)) # parameter rentang data yang mau diset\n",
    "\n",
    "# menghitung min maxnya\n",
    "preprocessor.fit(sample_data)\n",
    "\n",
    "# mentransform data\n",
    "scaled_data = preprocessor.transform(sample_data)\n",
    "scaled_data"
   ]
  },
  {
   "cell_type": "code",
   "execution_count": 28,
   "id": "90006457",
   "metadata": {
    "scrolled": true
   },
   "outputs": [
    {
     "data": {
      "text/plain": [
       "array([[0.48648649, 0.58252427, 0.99122807],\n",
       "       [0.        , 1.        , 0.81578947],\n",
       "       [0.27027027, 0.        , 1.        ],\n",
       "       [1.        , 0.99029126, 0.        ]])"
      ]
     },
     "execution_count": 28,
     "metadata": {},
     "output_type": "execute_result"
    }
   ],
   "source": [
    "# cara kedua yang lebih ringkas\n",
    "scaled_data = preprocessor.fit_transform(sample_data)\n",
    "scaled_data"
   ]
  },
  {
   "cell_type": "markdown",
   "id": "01710ec4",
   "metadata": {},
   "source": [
    "### Standarization"
   ]
  },
  {
   "cell_type": "code",
   "execution_count": 10,
   "id": "ba6590ab",
   "metadata": {},
   "outputs": [
    {
     "data": {
      "text/plain": [
       "[[12000000, 33], [35000000, 45], [4000000, 23], [6500000, 26], [9000000, 29]]"
      ]
     },
     "execution_count": 10,
     "metadata": {},
     "output_type": "execute_result"
    }
   ],
   "source": [
    "# biasanya data akan di ubah ke bentuk z-score supaya memiliki skala yang sama\n",
    "from sklearn.preprocessing import StandardScaler\n",
    "\n",
    "data = [[12000000, 33], [35000000, 45], [4000000, 23], [6500000, 26], [9000000, 29]]\n",
    "data"
   ]
  },
  {
   "cell_type": "code",
   "execution_count": 11,
   "id": "ebd93560",
   "metadata": {},
   "outputs": [
    {
     "data": {
      "text/plain": [
       "StandardScaler()"
      ]
     },
     "execution_count": 11,
     "metadata": {},
     "output_type": "execute_result"
    }
   ],
   "source": [
    "standarisasi = StandardScaler()\n",
    "\n",
    "# megnhitung mu dan sigma\n",
    "standarisasi.fit(data)"
   ]
  },
  {
   "cell_type": "code",
   "execution_count": 12,
   "id": "b1d29d2c",
   "metadata": {
    "scrolled": true
   },
   "outputs": [
    {
     "data": {
      "text/plain": [
       "array([[-0.11638732,  0.23521877],\n",
       "       [ 1.94277296,  1.80334389],\n",
       "       [-0.83261698, -1.07155217],\n",
       "       [-0.60879521, -0.67952089],\n",
       "       [-0.38497344, -0.28748961]])"
      ]
     },
     "execution_count": 12,
     "metadata": {},
     "output_type": "execute_result"
    }
   ],
   "source": [
    "# mentranformasi ke z-score dari mu dan sigma yang telah di hitung\n",
    "standarisasi.transform(data)"
   ]
  },
  {
   "cell_type": "code",
   "execution_count": 14,
   "id": "c0e1bf84",
   "metadata": {},
   "outputs": [
    {
     "data": {
      "text/plain": [
       "array([[-0.11638732,  0.23521877],\n",
       "       [ 1.94277296,  1.80334389],\n",
       "       [-0.83261698, -1.07155217],\n",
       "       [-0.60879521, -0.67952089],\n",
       "       [-0.38497344, -0.28748961]])"
      ]
     },
     "execution_count": 14,
     "metadata": {},
     "output_type": "execute_result"
    }
   ],
   "source": [
    "# cara lain \n",
    "standarisasi.fit_transform(data)"
   ]
  },
  {
   "cell_type": "markdown",
   "id": "963d7ca8",
   "metadata": {},
   "source": [
    "### L1 Normalisation: Least Absolute Deviations\n",
    "Deviasi absolut terkecil (LAD), juga dikenal sebagai kesalahan absolut terkecil (LAE), nilai absolut terkecil (LAV), residual absolut terkecil (LAR), jumlah deviasi absolut, atau kondisi normal L1, adalah <b> kriteria optimalitas statistik dan kriteria statistik teknik optimasi yang bergantung padanya </b>. Mirip dengan teknik kuadrat terkecil, ia mencoba untuk menemukan fungsi yang mendekati satu set data. Dalam kasus sederhana dari sekumpulan data (x,y), fungsi aproksimasi adalah \"garis tren\" sederhana dalam koordinat Cartesian dua dimensi. Metode ini meminimalkan jumlah kesalahan absolut (SAE) (jumlah nilai absolut dari \"sisa\" vertikal antara titik yang dihasilkan oleh fungsi dan titik terkait dalam data). Estimasi deviasi absolut terkecil juga muncul sebagai estimasi kemungkinan maksimum jika kesalahan memiliki distribusi Laplace."
   ]
  },
  {
   "cell_type": "code",
   "execution_count": 29,
   "id": "4cb92833",
   "metadata": {},
   "outputs": [
    {
     "data": {
      "text/plain": [
       "array([[ 2.1, -1.9,  5.5],\n",
       "       [-1.5,  2.4,  3.5],\n",
       "       [ 0.5, -7.9,  5.6],\n",
       "       [ 5.9,  2.3, -5.8]])"
      ]
     },
     "execution_count": 29,
     "metadata": {},
     "output_type": "execute_result"
    }
   ],
   "source": [
    "sample_data"
   ]
  },
  {
   "cell_type": "code",
   "execution_count": 30,
   "id": "8f24955b",
   "metadata": {},
   "outputs": [
    {
     "data": {
      "text/plain": [
       "array([[ 0.22105263, -0.2       ,  0.57894737],\n",
       "       [-0.2027027 ,  0.32432432,  0.47297297],\n",
       "       [ 0.03571429, -0.56428571,  0.4       ],\n",
       "       [ 0.42142857,  0.16428571, -0.41428571]])"
      ]
     },
     "execution_count": 30,
     "metadata": {},
     "output_type": "execute_result"
    }
   ],
   "source": [
    "# normalisasi data\n",
    "# butuh 2 parameter, pertama datanya, kedua jenis normalisasinya\n",
    "l1_normalized_data = preprocessing.normalize(sample_data, norm='l1') # l1 = least absolute deviations\n",
    "l1_normalized_data"
   ]
  },
  {
   "cell_type": "markdown",
   "id": "2f33eb15",
   "metadata": {},
   "source": [
    "### L2 Normalisation: Least Squares\n",
    "Metode kuadrat terkecil adalah pendekatan standar dalam analisis regresi untuk mendekati solusi sistem yang ditentukan lebih (kumpulan persamaan di mana ada lebih banyak persamaan daripada yang tidak diketahui) dengan meminimalkan jumlah kuadrat dari residu yang dibuat dalam hasil setiap persamaan tunggal ."
   ]
  },
  {
   "cell_type": "code",
   "execution_count": 31,
   "id": "be309f05",
   "metadata": {},
   "outputs": [
    {
     "data": {
      "text/plain": [
       "array([[ 2.1, -1.9,  5.5],\n",
       "       [-1.5,  2.4,  3.5],\n",
       "       [ 0.5, -7.9,  5.6],\n",
       "       [ 5.9,  2.3, -5.8]])"
      ]
     },
     "execution_count": 31,
     "metadata": {},
     "output_type": "execute_result"
    }
   ],
   "source": [
    "sample_data"
   ]
  },
  {
   "cell_type": "code",
   "execution_count": 32,
   "id": "f8e7e302",
   "metadata": {},
   "outputs": [
    {
     "data": {
      "text/plain": [
       "array([[ 0.33946114, -0.30713151,  0.88906489],\n",
       "       [-0.33325106,  0.53320169,  0.7775858 ],\n",
       "       [ 0.05156558, -0.81473612,  0.57753446],\n",
       "       [ 0.68706914,  0.26784051, -0.6754239 ]])"
      ]
     },
     "execution_count": 32,
     "metadata": {},
     "output_type": "execute_result"
    }
   ],
   "source": [
    "l2_normalized_data = preprocessing.normalize(sample_data, norm='l2') # l2 = least Squares\n",
    "l2_normalized_data"
   ]
  },
  {
   "cell_type": "markdown",
   "id": "876268d9",
   "metadata": {},
   "source": [
    "# Simple Linear Regression\n",
    "merupakan permodelan hubungan antara sebuah response variabel dan explanatory variabel sebagai garis lurus (linear)"
   ]
  },
  {
   "cell_type": "markdown",
   "id": "d6256238",
   "metadata": {},
   "source": [
    "### Sample Dataset"
   ]
  },
  {
   "cell_type": "code",
   "execution_count": 33,
   "id": "61ccf15b",
   "metadata": {},
   "outputs": [
    {
     "data": {
      "text/html": [
       "<div>\n",
       "<style scoped>\n",
       "    .dataframe tbody tr th:only-of-type {\n",
       "        vertical-align: middle;\n",
       "    }\n",
       "\n",
       "    .dataframe tbody tr th {\n",
       "        vertical-align: top;\n",
       "    }\n",
       "\n",
       "    .dataframe thead th {\n",
       "        text-align: right;\n",
       "    }\n",
       "</style>\n",
       "<table border=\"1\" class=\"dataframe\">\n",
       "  <thead>\n",
       "    <tr style=\"text-align: right;\">\n",
       "      <th></th>\n",
       "      <th>diameter</th>\n",
       "      <th>harga</th>\n",
       "    </tr>\n",
       "  </thead>\n",
       "  <tbody>\n",
       "    <tr>\n",
       "      <th>0</th>\n",
       "      <td>6</td>\n",
       "      <td>7.0</td>\n",
       "    </tr>\n",
       "    <tr>\n",
       "      <th>1</th>\n",
       "      <td>8</td>\n",
       "      <td>9.0</td>\n",
       "    </tr>\n",
       "    <tr>\n",
       "      <th>2</th>\n",
       "      <td>10</td>\n",
       "      <td>13.0</td>\n",
       "    </tr>\n",
       "    <tr>\n",
       "      <th>3</th>\n",
       "      <td>14</td>\n",
       "      <td>17.5</td>\n",
       "    </tr>\n",
       "    <tr>\n",
       "      <th>4</th>\n",
       "      <td>18</td>\n",
       "      <td>18.0</td>\n",
       "    </tr>\n",
       "  </tbody>\n",
       "</table>\n",
       "</div>"
      ],
      "text/plain": [
       "   diameter  harga\n",
       "0         6    7.0\n",
       "1         8    9.0\n",
       "2        10   13.0\n",
       "3        14   17.5\n",
       "4        18   18.0"
      ]
     },
     "execution_count": 33,
     "metadata": {},
     "output_type": "execute_result"
    }
   ],
   "source": [
    "# prediksi harga pizza dengan data diameter pizzanya\n",
    "import pandas as pd\n",
    "pizza = {\n",
    "    'diameter': [6, 8, 10, 14, 18], # feature\n",
    "    'harga': [7, 9, 13, 17.5, 18] # target\n",
    "}\n",
    "\n",
    "pizza_df = pd.DataFrame(pizza)\n",
    "pizza_df"
   ]
  },
  {
   "cell_type": "code",
   "execution_count": 34,
   "id": "1c34a3d8",
   "metadata": {},
   "outputs": [
    {
     "data": {
      "image/png": "[encoded data removed]",
      "text/plain": [
       "<Figure size 432x288 with 1 Axes>"
      ]
     },
     "metadata": {
      "needs_background": "light"
     },
     "output_type": "display_data"
    }
   ],
   "source": [
    "pizza_df.plot(kind='scatter', x='diameter', y='harga')\n",
    "\n",
    "# keterangan\n",
    "plt.title(\"Perbandingan Diameter dan Harga Pizza\")\n",
    "plt.xlabel(\"Diameter (inch)\")\n",
    "plt.ylabel(\"Harga ($)\")\n",
    "\n",
    "# jangkauan sumbu x dan y\n",
    "plt.xlim(0, 25)\n",
    "plt.ylim(0, 25)\n",
    "\n",
    "# grid\n",
    "plt.grid(True)\n",
    "\n",
    "plt.show()"
   ]
  },
  {
   "cell_type": "markdown",
   "id": "df7a0ec5",
   "metadata": {},
   "source": [
    "### Penyesuaian Dataset\n",
    "model machine learning dalam scikit-learn membutuhkan nilai feature dalam 2 dimensi"
   ]
  },
  {
   "cell_type": "code",
   "execution_count": 35,
   "id": "99255324",
   "metadata": {},
   "outputs": [
    {
     "name": "stdout",
     "output_type": "stream",
     "text": [
      "x: [ 6  8 10 14 18]\n",
      "y: [ 7.   9.  13.  17.5 18. ]\n"
     ]
    }
   ],
   "source": [
    "import numpy as np\n",
    "\n",
    "x = np.array(pizza_df['diameter'])\n",
    "y = np.array(pizza_df['harga'])\n",
    "\n",
    "print(f\"x: {x}\")\n",
    "print(f\"y: {y}\")"
   ]
  },
  {
   "cell_type": "code",
   "execution_count": 36,
   "id": "b388d39e",
   "metadata": {},
   "outputs": [
    {
     "data": {
      "text/plain": [
       "(5, 1)"
      ]
     },
     "execution_count": 36,
     "metadata": {},
     "output_type": "execute_result"
    }
   ],
   "source": [
    "# mengubah feature menjadi 2 dimensi\n",
    "x = x.reshape(-1,1)\n",
    "x.shape"
   ]
  },
  {
   "cell_type": "code",
   "execution_count": 37,
   "id": "188d3d39",
   "metadata": {},
   "outputs": [
    {
     "data": {
      "text/plain": [
       "array([[ 6],\n",
       "       [ 8],\n",
       "       [10],\n",
       "       [14],\n",
       "       [18]], dtype=int64)"
      ]
     },
     "execution_count": 37,
     "metadata": {},
     "output_type": "execute_result"
    }
   ],
   "source": [
    "x"
   ]
  },
  {
   "cell_type": "markdown",
   "id": "dd8dc197",
   "metadata": {},
   "source": [
    "### Training Model"
   ]
  },
  {
   "cell_type": "code",
   "execution_count": 38,
   "id": "3c7ecaf7",
   "metadata": {},
   "outputs": [
    {
     "data": {
      "text/plain": [
       "LinearRegression()"
      ]
     },
     "execution_count": 38,
     "metadata": {},
     "output_type": "execute_result"
    }
   ],
   "source": [
    "from sklearn.linear_model import LinearRegression\n",
    "\n",
    "model = LinearRegression()\n",
    "model.fit(x, y)"
   ]
  },
  {
   "cell_type": "code",
   "execution_count": 39,
   "id": "aae9ca44",
   "metadata": {},
   "outputs": [
    {
     "data": {
      "image/png": "[encoded data removed]",
      "text/plain": [
       "<Figure size 432x288 with 1 Axes>"
      ]
     },
     "metadata": {
      "needs_background": "light"
     },
     "output_type": "display_data"
    }
   ],
   "source": [
    "# visualisasi model\n",
    "x_vis = np.array([0, 25]).reshape(-1,1)\n",
    "y_vis = model.predict(x_vis)\n",
    "\n",
    "plt.scatter(x, y)\n",
    "plt.plot(x_vis, y_vis, '-r')\n",
    "\n",
    "plt.title(\"Perbandingan Diameter dan Harga Pizza\")\n",
    "plt.xlabel(\"Diameter (inch)\")\n",
    "plt.ylabel(\"Harga ($)\")\n",
    "\n",
    "# jangkauan sumbu x dan y\n",
    "plt.xlim(0, 25)\n",
    "plt.ylim(0, 25)\n",
    "\n",
    "# grid\n",
    "plt.grid(True)\n",
    "\n",
    "plt.show()"
   ]
  },
  {
   "cell_type": "markdown",
   "id": "8c342b9e",
   "metadata": {},
   "source": [
    "<img src=\"formula-linear.png\" style=\"width:300px\">\n",
    "\n",
    "intercept = titik dimana garis linear menabrak sumbu y atau nilai di sumbu x ketika nilai nya 0<br>\n",
    "slope = kemiringan garis linear (koefisien regresi)"
   ]
  },
  {
   "cell_type": "code",
   "execution_count": 40,
   "id": "4cea5a5b",
   "metadata": {},
   "outputs": [
    {
     "name": "stdout",
     "output_type": "stream",
     "text": [
      "intercept: 1.965517241379315\n",
      "slope: [0.9762931]\n"
     ]
    }
   ],
   "source": [
    "# mendapatkan nilai dari formula linear regression\n",
    "print(f\"intercept: {model.intercept_}\") \n",
    "print(f\"slope: {model.coef_}\") "
   ]
  },
  {
   "cell_type": "markdown",
   "id": "0b5ba131",
   "metadata": {},
   "source": [
    "#### Mencari Nilai Slope\n",
    "nilai slope dapat dicari dengan formula berikut\n",
    "<img src=\"slope.png\">"
   ]
  },
  {
   "cell_type": "code",
   "execution_count": 41,
   "id": "2f1a2815",
   "metadata": {},
   "outputs": [
    {
     "name": "stdout",
     "output_type": "stream",
     "text": [
      "x:\n",
      " [[ 6]\n",
      " [ 8]\n",
      " [10]\n",
      " [14]\n",
      " [18]]\n",
      "\n",
      "flatten: [ 6  8 10 14 18]\n",
      "\n",
      "y: [ 7.   9.  13.  17.5 18. ]\n",
      "\n"
     ]
    }
   ],
   "source": [
    "# melihat nilai x, y \n",
    "print(f\"x:\\n {x}\\n\")\n",
    "\n",
    "# untuk melakuakn kalkulasi covariance x yang dua dimensi harus dikembalikan ke bentuk asalnya\n",
    "print(f\"flatten: {x.flatten()}\\n\") # fungsi untk mengembalikan x ke 1 dimensi\n",
    "print(f\"y: {y}\\n\")"
   ]
  },
  {
   "cell_type": "markdown",
   "id": "8d03a151",
   "metadata": {},
   "source": [
    "#### DDOF\n",
    "Derajat Kebebasan (Degree Of Freedom, DOF) Derajat kebebasan ( degree of freedom) adalah derajat independensi yang diperlukan untuk menyatakan posisi suatu system pada setiap saat. Pada masalah dinamika, setiap titik atau massa pada umumnya hanya diperhitungkan berpindah tempat dalam satu arah saja yaitu arah horizontal."
   ]
  },
  {
   "cell_type": "code",
   "execution_count": 42,
   "id": "402ed81f",
   "metadata": {},
   "outputs": [
    {
     "data": {
      "text/plain": [
       "23.2"
      ]
     },
     "execution_count": 42,
     "metadata": {},
     "output_type": "execute_result"
    }
   ],
   "source": [
    "# mencari nilai variance\n",
    "variance_x = np.var(x.flatten(), ddof=1)\n",
    "variance_x"
   ]
  },
  {
   "cell_type": "code",
   "execution_count": 43,
   "id": "b6d66961",
   "metadata": {},
   "outputs": [
    {
     "data": {
      "text/plain": [
       "array([[23.2 , 22.65],\n",
       "       [22.65, 24.3 ]])"
      ]
     },
     "execution_count": 43,
     "metadata": {},
     "output_type": "execute_result"
    }
   ],
   "source": [
    "# mencari nilai dari covariance\n",
    "np.cov(x.flatten(), y)\n",
    "# nilai cov yang digunakaan adalah yang berada di diagonal (sama)"
   ]
  },
  {
   "cell_type": "code",
   "execution_count": 44,
   "id": "b79cc3b6",
   "metadata": {},
   "outputs": [
    {
     "data": {
      "text/plain": [
       "22.650000000000002"
      ]
     },
     "execution_count": 44,
     "metadata": {},
     "output_type": "execute_result"
    }
   ],
   "source": [
    "# mendapatkan nilai covariance\n",
    "covariance_xy = np.cov(x.flatten(), y)[0][1]\n",
    "covariance_xy"
   ]
  },
  {
   "cell_type": "code",
   "execution_count": 45,
   "id": "f06afd3a",
   "metadata": {},
   "outputs": [
    {
     "name": "stdout",
     "output_type": "stream",
     "text": [
      "slope: 0.976293103448276\n"
     ]
    }
   ],
   "source": [
    "# mendapatkan nilai slope\n",
    "slope = covariance_xy / variance_x\n",
    "\n",
    "print(f\"slope: {slope}\")"
   ]
  },
  {
   "cell_type": "markdown",
   "id": "7eac3aee",
   "metadata": {},
   "source": [
    "#### Mencari nilai intercept\n",
    "formulanya sebagai berikut:\n",
    "<img src=\"intercept.png\">\n",
    " y = nilai rata rata dari target\n",
    " "
   ]
  },
  {
   "cell_type": "code",
   "execution_count": 46,
   "id": "2a51e548",
   "metadata": {},
   "outputs": [
    {
     "name": "stdout",
     "output_type": "stream",
     "text": [
      "intercept: 1.9655172413793096\n"
     ]
    }
   ],
   "source": [
    "# mencari nilai intercept\n",
    "intercept = np.mean(y) - (slope*np.mean(x))\n",
    "print(f\"intercept: {intercept}\")"
   ]
  },
  {
   "cell_type": "markdown",
   "id": "f7a0d106",
   "metadata": {},
   "source": [
    "### Prediksi Harga Pizza\n"
   ]
  },
  {
   "cell_type": "code",
   "execution_count": 47,
   "id": "7f45d1d4",
   "metadata": {},
   "outputs": [
    {
     "data": {
      "text/plain": [
       "array([[12],\n",
       "       [20],\n",
       "       [23]])"
      ]
     },
     "execution_count": 47,
     "metadata": {},
     "output_type": "execute_result"
    }
   ],
   "source": [
    "# menyiapakan data yang mau dipredict\n",
    "diameter_pizza = np.array([12,20,23]).reshape(-1,1) # harus dua dimensi\n",
    "diameter_pizza"
   ]
  },
  {
   "cell_type": "code",
   "execution_count": 48,
   "id": "872b2869",
   "metadata": {},
   "outputs": [
    {
     "data": {
      "text/plain": [
       "array([13.68103448, 21.49137931, 24.42025862])"
      ]
     },
     "execution_count": 48,
     "metadata": {},
     "output_type": "execute_result"
    }
   ],
   "source": [
    "# memprediksi harga\n",
    "prediksi_harga = model.predict(diameter_pizza)\n",
    "prediksi_harga"
   ]
  },
  {
   "cell_type": "code",
   "execution_count": 49,
   "id": "f66d6444",
   "metadata": {},
   "outputs": [
    {
     "name": "stdout",
     "output_type": "stream",
     "text": [
      "Diameter: [12] berharga: 13.681034482758621\n",
      "Diameter: [20] berharga: 21.491379310344826\n",
      "Diameter: [23] berharga: 24.42025862068965\n"
     ]
    }
   ],
   "source": [
    "# iterasi biar lebih enak dibaca\n",
    "for d,hrg in zip(diameter_pizza, prediksi_harga):\n",
    "    print(f\"Diameter: {d} berharga: {hrg}\")"
   ]
  },
  {
   "cell_type": "markdown",
   "id": "7b32f9b0",
   "metadata": {},
   "source": [
    "# Evaluasi Linear Regression"
   ]
  },
  {
   "cell_type": "markdown",
   "id": "ee4f9740",
   "metadata": {},
   "source": [
    "### Training & Testing Dataset"
   ]
  },
  {
   "cell_type": "code",
   "execution_count": 50,
   "id": "683ecd92",
   "metadata": {},
   "outputs": [],
   "source": [
    "# data untuk bagian Train\n",
    "x_train = np.array([6, 8, 10, 14, 18]).reshape(-1,1)\n",
    "y_train = np.array([7, 9, 13, 17.5, 18])\n",
    "\n",
    "# data untuk bagian test\n",
    "x_test = np.array([8, 9, 11, 16, 12]).reshape(-1,1)\n",
    "y_test = np.array([11, 8.5, 15, 18, 11])"
   ]
  },
  {
   "cell_type": "code",
   "execution_count": 51,
   "id": "7419e386",
   "metadata": {},
   "outputs": [
    {
     "data": {
      "text/plain": [
       "LinearRegression()"
      ]
     },
     "execution_count": 51,
     "metadata": {},
     "output_type": "execute_result"
    }
   ],
   "source": [
    "# mentrain simple linear regression\n",
    "model = LinearRegression()\n",
    "model.fit(x_train, y_train)"
   ]
  },
  {
   "cell_type": "markdown",
   "id": "22a6f736",
   "metadata": {},
   "source": [
    "### Eval Model dengan Coefficient of Determination\n",
    "Koefisien determinasi ( coefficient of determination /R-squared) adalah ukuran yang menunjukkan berapa banyak variasi dalam data dapat dijelaskan oleh model regresi yang dibangun. <br>\n",
    "Nilai evalusi jika semakin mendekati 1 maka semakin bagus sedangkan semakin mendekati 0 maka semakin buruk dan apabila bernilai negatif maka menjadi sangat buruk"
   ]
  },
  {
   "cell_type": "code",
   "execution_count": 52,
   "id": "57c965ae",
   "metadata": {},
   "outputs": [
    {
     "name": "stdout",
     "output_type": "stream",
     "text": [
      "R-square = 0.6620052929422553\n"
     ]
    }
   ],
   "source": [
    "from sklearn.metrics import r2_score\n",
    "\n",
    "y_pred = model.predict(x_test)\n",
    "r_squared = r2_score(y_test, y_pred)\n",
    "\n",
    "\n",
    "print(f\"R-square = {r_squared}\")"
   ]
  },
  {
   "cell_type": "markdown",
   "id": "23ca1815",
   "metadata": {},
   "source": [
    "#### Mencari nilai R-squared\n",
    "<img src=\"r-squared.png\" style=\"width: 250px\">\n",
    "SSred (sum square residual) = selisi nilai y_test dengan nilai prediksi setelah itu dipangkat 2 dan dijumlah keseluruhan<br>\n",
    "SStot = selisih untuk setiap nilai y_test dengan nilai rata rata nya setelah itu dipangkat 2 dan dijumlah keseluruhan"
   ]
  },
  {
   "cell_type": "code",
   "execution_count": 53,
   "id": "9e88b6b9",
   "metadata": {},
   "outputs": [
    {
     "name": "stdout",
     "output_type": "stream",
     "text": [
      "SSred: 19.1980993608799\n"
     ]
    }
   ],
   "source": [
    "# SSres\n",
    "ss_res = sum([(y_i - model.predict(x_i.reshape(-1,1))[0])**2\n",
    "                                 for x_i, y_i in zip(x_test, y_test)])\n",
    "print(f\"SSred: {ss_res}\")"
   ]
  },
  {
   "cell_type": "code",
   "execution_count": 54,
   "id": "28e0eccb",
   "metadata": {},
   "outputs": [
    {
     "name": "stdout",
     "output_type": "stream",
     "text": [
      "SStot: 56.8\n"
     ]
    }
   ],
   "source": [
    "# SStot\n",
    "mean_y = np.mean(y_test)\n",
    "ss_tot = sum([(y_i - mean_y)**2 for y_i in y_test])\n",
    "\n",
    "print(f\"SStot: {ss_tot}\")"
   ]
  },
  {
   "cell_type": "code",
   "execution_count": 55,
   "id": "6cb47b68",
   "metadata": {},
   "outputs": [
    {
     "name": "stdout",
     "output_type": "stream",
     "text": [
      "R-square: 0.6620052929422553\n"
     ]
    }
   ],
   "source": [
    "# R-squared\n",
    "r_square = 1 - (ss_res / ss_tot)\n",
    "\n",
    "print(f\"R-square: {r_square}\")"
   ]
  },
  {
   "cell_type": "markdown",
   "id": "ee1d3df1",
   "metadata": {},
   "source": [
    "# Classification with KNN (K-Nearest Neighbours)\n",
    "Algoritma KNN merupakan algoritma klasifikasi yang bekerja dengan mengambil sejumlah K data terdekat (tetangganya) sebagai acuan untuk menentukan kelas dari data baru. Algoritma ini mengklasifikasikan data berdasarkan similarity atau kemiripan atau kedekatannya terhadap data lainnya.<br>\n",
    "Refrensi: <a href=\"https://medium.com/bee-solution-partners/cara-kerja-algoritma-k-nearest-neighbor-k-nn-389297de543e#:~:text=Apa%20itu%20Algoritma%20k-Nearest%20Neighbor%3F%20Algoritma%20k-Nearest%20Neighbor,baru%20berdasarkan%20atribut%20dan%20sample-sample%20dari%20training%20data\">google</a>"
   ]
  },
  {
   "cell_type": "markdown",
   "id": "0659f384",
   "metadata": {},
   "source": [
    "### Sample Dataset"
   ]
  },
  {
   "cell_type": "code",
   "execution_count": 56,
   "id": "01dfb037",
   "metadata": {},
   "outputs": [
    {
     "data": {
      "text/html": [
       "<div>\n",
       "<style scoped>\n",
       "    .dataframe tbody tr th:only-of-type {\n",
       "        vertical-align: middle;\n",
       "    }\n",
       "\n",
       "    .dataframe tbody tr th {\n",
       "        vertical-align: top;\n",
       "    }\n",
       "\n",
       "    .dataframe thead th {\n",
       "        text-align: right;\n",
       "    }\n",
       "</style>\n",
       "<table border=\"1\" class=\"dataframe\">\n",
       "  <thead>\n",
       "    <tr style=\"text-align: right;\">\n",
       "      <th></th>\n",
       "      <th>tinggi</th>\n",
       "      <th>berat</th>\n",
       "      <th>gender</th>\n",
       "    </tr>\n",
       "  </thead>\n",
       "  <tbody>\n",
       "    <tr>\n",
       "      <th>0</th>\n",
       "      <td>150</td>\n",
       "      <td>64</td>\n",
       "      <td>L</td>\n",
       "    </tr>\n",
       "    <tr>\n",
       "      <th>1</th>\n",
       "      <td>170</td>\n",
       "      <td>86</td>\n",
       "      <td>L</td>\n",
       "    </tr>\n",
       "    <tr>\n",
       "      <th>2</th>\n",
       "      <td>183</td>\n",
       "      <td>84</td>\n",
       "      <td>L</td>\n",
       "    </tr>\n",
       "    <tr>\n",
       "      <th>3</th>\n",
       "      <td>191</td>\n",
       "      <td>80</td>\n",
       "      <td>L</td>\n",
       "    </tr>\n",
       "    <tr>\n",
       "      <th>4</th>\n",
       "      <td>155</td>\n",
       "      <td>49</td>\n",
       "      <td>P</td>\n",
       "    </tr>\n",
       "    <tr>\n",
       "      <th>5</th>\n",
       "      <td>163</td>\n",
       "      <td>59</td>\n",
       "      <td>P</td>\n",
       "    </tr>\n",
       "    <tr>\n",
       "      <th>6</th>\n",
       "      <td>180</td>\n",
       "      <td>67</td>\n",
       "      <td>P</td>\n",
       "    </tr>\n",
       "    <tr>\n",
       "      <th>7</th>\n",
       "      <td>158</td>\n",
       "      <td>54</td>\n",
       "      <td>P</td>\n",
       "    </tr>\n",
       "    <tr>\n",
       "      <th>8</th>\n",
       "      <td>170</td>\n",
       "      <td>67</td>\n",
       "      <td>P</td>\n",
       "    </tr>\n",
       "  </tbody>\n",
       "</table>\n",
       "</div>"
      ],
      "text/plain": [
       "   tinggi  berat gender\n",
       "0     150     64      L\n",
       "1     170     86      L\n",
       "2     183     84      L\n",
       "3     191     80      L\n",
       "4     155     49      P\n",
       "5     163     59      P\n",
       "6     180     67      P\n",
       "7     158     54      P\n",
       "8     170     67      P"
      ]
     },
     "execution_count": 56,
     "metadata": {},
     "output_type": "execute_result"
    }
   ],
   "source": [
    "# menyiapkan dataset\n",
    "sensus = {\n",
    "    'tinggi': [150, 170, 183, 191, 155, 163, 180, 158, 170],\n",
    "    'berat': [64, 86, 84, 80, 49, 59, 67, 54, 67],\n",
    "    'gender': [\"L\", \"L\", \"L\", \"L\", \"P\", \"P\", \"P\" , \"P\", \"P\"]\n",
    "}\n",
    "\n",
    "sensus_df = pd.DataFrame(sensus)\n",
    "sensus_df"
   ]
  },
  {
   "cell_type": "markdown",
   "id": "274b304c",
   "metadata": {},
   "source": [
    "### Visualisasi Dataset\n"
   ]
  },
  {
   "cell_type": "code",
   "execution_count": 57,
   "id": "77e171ed",
   "metadata": {},
   "outputs": [
    {
     "data": {
      "image/png": "[encoded data removed]",
      "text/plain": [
       "<Figure size 432x288 with 1 Axes>"
      ]
     },
     "metadata": {
      "needs_background": "light"
     },
     "output_type": "display_data"
    }
   ],
   "source": [
    "# visualisasi dengan scatter\n",
    "fig, ax = plt.subplots()\n",
    "for gender, d in sensus_df.groupby('gender'):\n",
    "    ax.scatter(d['tinggi'], d['berat'], label=gender)\n",
    "    \n",
    "plt.legend(loc='upper left') # untuk keterangan ttik\n",
    "plt.title(\"Sebaran Data TB, BB, dan Gender\")\n",
    "plt.xlabel('TB (cm)')\n",
    "plt.ylabel('BB (kg)')\n",
    "plt.grid(True)\n",
    "\n",
    "plt.show()"
   ]
  },
  {
   "cell_type": "markdown",
   "id": "3120e0fe",
   "metadata": {},
   "source": [
    "### Preprocessing Dataset"
   ]
  },
  {
   "cell_type": "code",
   "execution_count": 58,
   "id": "4920d185",
   "metadata": {},
   "outputs": [
    {
     "name": "stdout",
     "output_type": "stream",
     "text": [
      "x_train: \n",
      "[[150  64]\n",
      " [170  86]\n",
      " [183  84]\n",
      " [191  80]\n",
      " [155  49]\n",
      " [163  59]\n",
      " [180  67]\n",
      " [158  54]\n",
      " [170  67]]\n",
      "\n",
      "y_train: ['L' 'L' 'L' 'L' 'P' 'P' 'P' 'P' 'P']\n"
     ]
    }
   ],
   "source": [
    "# menyesuaikan data sebelum membentuk modelnya\n",
    "x_train = np.array(sensus_df[['tinggi', 'berat']]) # feature\n",
    "y_train = np.array(sensus_df['gender']) # target\n",
    "\n",
    "print(f\"x_train: \\n{x_train}\\n\")\n",
    "print(f\"y_train: {y_train}\")"
   ]
  },
  {
   "cell_type": "code",
   "execution_count": 59,
   "id": "b7432553",
   "metadata": {},
   "outputs": [
    {
     "name": "stdout",
     "output_type": "stream",
     "text": [
      "y_train: \n",
      "[[0]\n",
      " [0]\n",
      " [0]\n",
      " [0]\n",
      " [1]\n",
      " [1]\n",
      " [1]\n",
      " [1]\n",
      " [1]]\n"
     ]
    }
   ],
   "source": [
    "# mengubah nilai targetnya\n",
    "from sklearn.preprocessing import LabelBinarizer\n",
    "\n",
    "lb = LabelBinarizer()\n",
    "y_train = lb.fit_transform(y_train)\n",
    "\n",
    "# y_train = lb.inverse_transform(y_train)\n",
    "# akan menghasilkan array 2 dimensi\n",
    "print(f\"y_train: \\n{y_train}\")"
   ]
  },
  {
   "cell_type": "code",
   "execution_count": 60,
   "id": "ece1b8f3",
   "metadata": {},
   "outputs": [
    {
     "name": "stdout",
     "output_type": "stream",
     "text": [
      "y_train: [0 0 0 0 1 1 1 1 1]\n"
     ]
    }
   ],
   "source": [
    "# mengubah nilai target menjadi 1 dimensi\n",
    "y_train = y_train.flatten()\n",
    "print(f\"y_train: {y_train}\")"
   ]
  },
  {
   "cell_type": "markdown",
   "id": "445849b4",
   "metadata": {},
   "source": [
    "### Training Model KNN"
   ]
  },
  {
   "cell_type": "code",
   "execution_count": 61,
   "id": "3efe40de",
   "metadata": {},
   "outputs": [
    {
     "data": {
      "text/plain": [
       "KNeighborsClassifier(n_neighbors=3)"
      ]
     },
     "execution_count": 61,
     "metadata": {},
     "output_type": "execute_result"
    }
   ],
   "source": [
    "# classification KNN\n",
    "from sklearn.neighbors import KNeighborsClassifier\n",
    "\n",
    "k = 3 \n",
    "model = KNeighborsClassifier(n_neighbors=k)\n",
    "model.fit(x_train, y_train)"
   ]
  },
  {
   "cell_type": "markdown",
   "id": "b439c892",
   "metadata": {},
   "source": [
    " ### Prediksi Gender"
   ]
  },
  {
   "cell_type": "code",
   "execution_count": 62,
   "id": "6d4a27b5",
   "metadata": {},
   "outputs": [
    {
     "data": {
      "text/plain": [
       "array([[155,  70]])"
      ]
     },
     "execution_count": 62,
     "metadata": {},
     "output_type": "execute_result"
    }
   ],
   "source": [
    "# contoh prediksi\n",
    "tinggi_badan = 155\n",
    "berat_badan = 70\n",
    "\n",
    "# features harus bentuk array 2 dimensi\n",
    "x_new = np.array([tinggi_badan, berat_badan]).reshape(1,-1)\n",
    "x_new"
   ]
  },
  {
   "cell_type": "code",
   "execution_count": 63,
   "id": "44e00f6c",
   "metadata": {},
   "outputs": [
    {
     "data": {
      "text/plain": [
       "array([1])"
      ]
     },
     "execution_count": 63,
     "metadata": {},
     "output_type": "execute_result"
    }
   ],
   "source": [
    "y_new = model.predict(x_new)\n",
    "y_new"
   ]
  },
  {
   "cell_type": "code",
   "execution_count": 64,
   "id": "a6828723",
   "metadata": {},
   "outputs": [
    {
     "data": {
      "text/plain": [
       "array(['P'], dtype='<U1')"
      ]
     },
     "execution_count": 64,
     "metadata": {},
     "output_type": "execute_result"
    }
   ],
   "source": [
    "y_new = lb.inverse_transform(y_new)\n",
    "y_new"
   ]
  },
  {
   "cell_type": "markdown",
   "id": "41ef31b3",
   "metadata": {},
   "source": [
    "### Visualisasi Nearest Neigbours"
   ]
  },
  {
   "cell_type": "code",
   "execution_count": 65,
   "id": "eac8b59d",
   "metadata": {},
   "outputs": [
    {
     "data": {
      "image/png": "[encoded data removed]",
      "text/plain": [
       "<Figure size 432x288 with 1 Axes>"
      ]
     },
     "metadata": {
      "needs_background": "light"
     },
     "output_type": "display_data"
    }
   ],
   "source": [
    "# visulaisasi hasil prediksi\n",
    "fig, ax = plt.subplots()\n",
    "for gender, d in sensus_df.groupby('gender'):\n",
    "    ax.scatter(d['tinggi'], d['berat'], label=gender)\n",
    "\n",
    "# data yang akan di prediksi\n",
    "plt.scatter(tinggi_badan,\n",
    "           berat_badan,\n",
    "           marker='s',\n",
    "           color='r',\n",
    "           label='misterius')\n",
    "    \n",
    "plt.legend(loc='upper left') # untuk keterangan ttik\n",
    "plt.title(\"Sebaran Data TB, BB, dan Gender\")\n",
    "plt.xlabel('TB (cm)')\n",
    "plt.ylabel('BB (kg)')\n",
    "plt.grid(True)\n",
    "\n",
    "plt.show()"
   ]
  },
  {
   "cell_type": "markdown",
   "id": "ae4cf243",
   "metadata": {},
   "source": [
    "#### Formula pada Algoritma KNN\n",
    "#### Kalkulasi Distance (euclidean distance)\n",
    "<img src=\"euclidean distance.png\">\n",
    "jarak yang digunakan untuk menentukan tetangga terdekatnya<br>\n",
    "t = tinggi badan<br>\n",
    "b = untuk berat badan"
   ]
  },
  {
   "cell_type": "code",
   "execution_count": 66,
   "id": "5c4be734",
   "metadata": {},
   "outputs": [
    {
     "data": {
      "text/plain": [
       "array([155,  70])"
      ]
     },
     "execution_count": 66,
     "metadata": {},
     "output_type": "execute_result"
    }
   ],
   "source": [
    "misterius = np.array([tinggi_badan, berat_badan])\n",
    "misterius"
   ]
  },
  {
   "cell_type": "code",
   "execution_count": 67,
   "id": "51175d12",
   "metadata": {},
   "outputs": [
    {
     "data": {
      "text/plain": [
       "array([[150,  64],\n",
       "       [170,  86],\n",
       "       [183,  84],\n",
       "       [191,  80],\n",
       "       [155,  49],\n",
       "       [163,  59],\n",
       "       [180,  67],\n",
       "       [158,  54],\n",
       "       [170,  67]], dtype=int64)"
      ]
     },
     "execution_count": 67,
     "metadata": {},
     "output_type": "execute_result"
    }
   ],
   "source": [
    "x_train"
   ]
  },
  {
   "cell_type": "code",
   "execution_count": 68,
   "id": "e5319d48",
   "metadata": {},
   "outputs": [
    {
     "data": {
      "text/plain": [
       "[7.810249675906654,\n",
       " 21.93171219946131,\n",
       " 31.304951684997057,\n",
       " 37.36308338453881,\n",
       " 21.0,\n",
       " 13.601470508735444,\n",
       " 25.179356624028344,\n",
       " 16.278820596099706,\n",
       " 15.297058540778355]"
      ]
     },
     "execution_count": 68,
     "metadata": {},
     "output_type": "execute_result"
    }
   ],
   "source": [
    "# menghitung distance\n",
    "from scipy.spatial.distance import euclidean\n",
    "\n",
    "data_jarak = [euclidean(misterius, i) for i in x_train]\n",
    "data_jarak"
   ]
  },
  {
   "cell_type": "code",
   "execution_count": 69,
   "id": "157061e8",
   "metadata": {},
   "outputs": [
    {
     "data": {
      "text/html": [
       "<div>\n",
       "<style scoped>\n",
       "    .dataframe tbody tr th:only-of-type {\n",
       "        vertical-align: middle;\n",
       "    }\n",
       "\n",
       "    .dataframe tbody tr th {\n",
       "        vertical-align: top;\n",
       "    }\n",
       "\n",
       "    .dataframe thead th {\n",
       "        text-align: right;\n",
       "    }\n",
       "</style>\n",
       "<table border=\"1\" class=\"dataframe\">\n",
       "  <thead>\n",
       "    <tr style=\"text-align: right;\">\n",
       "      <th></th>\n",
       "      <th>tinggi</th>\n",
       "      <th>berat</th>\n",
       "      <th>gender</th>\n",
       "      <th>jarak</th>\n",
       "    </tr>\n",
       "  </thead>\n",
       "  <tbody>\n",
       "    <tr>\n",
       "      <th>0</th>\n",
       "      <td>150</td>\n",
       "      <td>64</td>\n",
       "      <td>L</td>\n",
       "      <td>7.810250</td>\n",
       "    </tr>\n",
       "    <tr>\n",
       "      <th>5</th>\n",
       "      <td>163</td>\n",
       "      <td>59</td>\n",
       "      <td>P</td>\n",
       "      <td>13.601471</td>\n",
       "    </tr>\n",
       "    <tr>\n",
       "      <th>8</th>\n",
       "      <td>170</td>\n",
       "      <td>67</td>\n",
       "      <td>P</td>\n",
       "      <td>15.297059</td>\n",
       "    </tr>\n",
       "    <tr>\n",
       "      <th>7</th>\n",
       "      <td>158</td>\n",
       "      <td>54</td>\n",
       "      <td>P</td>\n",
       "      <td>16.278821</td>\n",
       "    </tr>\n",
       "    <tr>\n",
       "      <th>4</th>\n",
       "      <td>155</td>\n",
       "      <td>49</td>\n",
       "      <td>P</td>\n",
       "      <td>21.000000</td>\n",
       "    </tr>\n",
       "    <tr>\n",
       "      <th>1</th>\n",
       "      <td>170</td>\n",
       "      <td>86</td>\n",
       "      <td>L</td>\n",
       "      <td>21.931712</td>\n",
       "    </tr>\n",
       "    <tr>\n",
       "      <th>6</th>\n",
       "      <td>180</td>\n",
       "      <td>67</td>\n",
       "      <td>P</td>\n",
       "      <td>25.179357</td>\n",
       "    </tr>\n",
       "    <tr>\n",
       "      <th>2</th>\n",
       "      <td>183</td>\n",
       "      <td>84</td>\n",
       "      <td>L</td>\n",
       "      <td>31.304952</td>\n",
       "    </tr>\n",
       "    <tr>\n",
       "      <th>3</th>\n",
       "      <td>191</td>\n",
       "      <td>80</td>\n",
       "      <td>L</td>\n",
       "      <td>37.363083</td>\n",
       "    </tr>\n",
       "  </tbody>\n",
       "</table>\n",
       "</div>"
      ],
      "text/plain": [
       "   tinggi  berat gender      jarak\n",
       "0     150     64      L   7.810250\n",
       "5     163     59      P  13.601471\n",
       "8     170     67      P  15.297059\n",
       "7     158     54      P  16.278821\n",
       "4     155     49      P  21.000000\n",
       "1     170     86      L  21.931712\n",
       "6     180     67      P  25.179357\n",
       "2     183     84      L  31.304952\n",
       "3     191     80      L  37.363083"
      ]
     },
     "execution_count": 69,
     "metadata": {},
     "output_type": "execute_result"
    }
   ],
   "source": [
    "# mempermudah pengamatan\n",
    "sensus_df['jarak'] = data_jarak\n",
    "sensus_df.sort_values(['jarak']) # urut berdasarklan nilai jarak terkecil"
   ]
  },
  {
   "cell_type": "markdown",
   "id": "fc3ad680",
   "metadata": {},
   "source": [
    "### Evaluasi KNN Classification Model"
   ]
  },
  {
   "cell_type": "code",
   "execution_count": 70,
   "id": "295eb8f2",
   "metadata": {},
   "outputs": [
    {
     "name": "stdout",
     "output_type": "stream",
     "text": [
      "x_test:\n",
      " [[168 165]\n",
      " [180  96]\n",
      " [169  52]\n",
      " [169  67]]\n",
      "\n",
      "y_test:\n",
      " [0 0 1 1]\n"
     ]
    }
   ],
   "source": [
    "# testing test\n",
    "x_test = np.array([[168,165], [180, 96], [169, 52], [169, 67]])\n",
    "y_test = lb.transform(np.array([\"L\", \"L\", \"P\", \"P\"])).flatten()\n",
    "\n",
    "print(f\"x_test:\\n {x_test}\\n\") # harus 2 dimensi\n",
    "print(f\"y_test:\\n {y_test}\") # harus 1 dimensi"
   ]
  },
  {
   "cell_type": "code",
   "execution_count": 71,
   "id": "fdaa04f0",
   "metadata": {},
   "outputs": [
    {
     "data": {
      "text/plain": [
       "array([0, 0, 1, 1])"
      ]
     },
     "execution_count": 71,
     "metadata": {},
     "output_type": "execute_result"
    }
   ],
   "source": [
    "# Prediksi terhadap testing set\n",
    "y_pred = model.predict(x_test)\n",
    "y_pred"
   ]
  },
  {
   "cell_type": "markdown",
   "id": "7579c0c8",
   "metadata": {},
   "source": [
    "#### NIlai Accuracy\n",
    "akurasi adalah proporsi dari instance pada training test yang berhasil di prediksi secara tepat.\n",
    "<img src=\"akurasiknn.png\">\n",
    "tp = true positif (sesuatu yang bernilai posistif telah di prediksi sebagai positif) <br>\n",
    "tf = true negatif (sesuatu yang bernilai negatif telah di prediksi sebagai negatif) <br><br>\n",
    "contoh kasus: <br>\n",
    "tn = pria di prediksi sebagai pria<br>\n",
    "tf = bukan pria di prediksi sebagai bukan pria<br><br>\n",
    "fp = false positif (sesuatui yang bernilai negatif telah keliru di prediksi sebagai positif)<br>\n",
    "fn = false negatif (sesuatui yang bernilai positif telah keliru di prediksi sebagai negatif)<br><br>\n",
    "contoh:<br>\n",
    "fp = data pria di prediksi sebagai wanita<br>\n",
    "fn = data bukan pria di prediksi sebagai pria"
   ]
  },
  {
   "cell_type": "code",
   "execution_count": 72,
   "id": "f1d47e62",
   "metadata": {},
   "outputs": [
    {
     "name": "stdout",
     "output_type": "stream",
     "text": [
      "accuracy: 1.0\n"
     ]
    }
   ],
   "source": [
    "from sklearn.metrics import accuracy_score\n",
    "\n",
    "# perhitungan akurasi skor\n",
    "acc = accuracy_score(y_test, y_pred)\n",
    "print(f\"accuracy: {acc}\")"
   ]
  },
  {
   "cell_type": "markdown",
   "id": "1f8dcb72",
   "metadata": {},
   "source": [
    "#### Precission\n",
    "proporsi dari testing set yang telah di prediksi sebagai positif karena memang positif.\n",
    "<img src=\"presisi.png\">"
   ]
  },
  {
   "cell_type": "code",
   "execution_count": 73,
   "id": "2624448d",
   "metadata": {},
   "outputs": [
    {
     "name": "stdout",
     "output_type": "stream",
     "text": [
      "presisi: 1.0\n"
     ]
    }
   ],
   "source": [
    "from sklearn.metrics import precision_score\n",
    "\n",
    "# menghitung presisi\n",
    "presisi = precision_score(y_test, y_pred)\n",
    "\n",
    "print(f\"presisi: {presisi}\")"
   ]
  },
  {
   "cell_type": "markdown",
   "id": "b512f525",
   "metadata": {},
   "source": [
    "#### Recall\n",
    "recall merupakan data pada testing set yang benar benar positif dan diprediksi sebagai nilai positif.\n",
    "<img src=\"recall.png\">"
   ]
  },
  {
   "cell_type": "code",
   "execution_count": 74,
   "id": "7050a65d",
   "metadata": {},
   "outputs": [
    {
     "name": "stdout",
     "output_type": "stream",
     "text": [
      "recall: 1.0\n"
     ]
    }
   ],
   "source": [
    "from sklearn.metrics import recall_score\n",
    "\n",
    "# perhitungan recall\n",
    "recall = recall_score(y_test, y_pred)\n",
    "\n",
    "print(f\"recall: {recall}\")"
   ]
  },
  {
   "cell_type": "markdown",
   "id": "09e1618b",
   "metadata": {},
   "source": [
    "#### F1 Score\n",
    "merupakan nilai rata rata harmonic dari precision dan recall.\n",
    "<img src=\"f1.png\">"
   ]
  },
  {
   "cell_type": "code",
   "execution_count": 75,
   "id": "1ba8046f",
   "metadata": {},
   "outputs": [
    {
     "name": "stdout",
     "output_type": "stream",
     "text": [
      "f1 score: 1.0\n"
     ]
    }
   ],
   "source": [
    "from sklearn.metrics import f1_score\n",
    "\n",
    "# peritungan f1 score\n",
    "f1 = f1_score(y_test, y_pred)\n",
    "\n",
    "print(f\"f1 score: {f1}\")"
   ]
  },
  {
   "cell_type": "markdown",
   "id": "386d0aa2",
   "metadata": {},
   "source": [
    "### Classification report\n",
    "menampilkan semua class classifikasi"
   ]
  },
  {
   "cell_type": "code",
   "execution_count": 76,
   "id": "20818445",
   "metadata": {},
   "outputs": [
    {
     "name": "stdout",
     "output_type": "stream",
     "text": [
      "Classification report:\n",
      "\n",
      "               precision    recall  f1-score   support\n",
      "\n",
      "           0       1.00      1.00      1.00         2\n",
      "           1       1.00      1.00      1.00         2\n",
      "\n",
      "    accuracy                           1.00         4\n",
      "   macro avg       1.00      1.00      1.00         4\n",
      "weighted avg       1.00      1.00      1.00         4\n",
      "\n"
     ]
    }
   ],
   "source": [
    "from sklearn.metrics import classification_report\n",
    "\n",
    "cls_report = classification_report(y_test, y_pred)\n",
    "\n",
    "print(f\"Classification report:\\n\\n {cls_report}\")\n",
    "# 0 dan 1 merupakan nilai target"
   ]
  },
  {
   "cell_type": "markdown",
   "id": "be862a6c",
   "metadata": {},
   "source": [
    "### Metthews Correlation Coefficient (MCC)\n",
    "merupakan alternatif dari F1 score untuk keperluan pengukuran perngukuran performa dari binary classifiers. Nilai sempurnanya adalah 1, jika dilakukan prediksi secara random dan ngawur maka skornya 0, dan jika model classifiernya ngaco maka nilainya -1.\n",
    "<img src=\"mcc.png\">"
   ]
  },
  {
   "cell_type": "code",
   "execution_count": 77,
   "id": "7ff62f45",
   "metadata": {},
   "outputs": [
    {
     "name": "stdout",
     "output_type": "stream",
     "text": [
      "MCC: 1.0\n"
     ]
    }
   ],
   "source": [
    "from sklearn.metrics import matthews_corrcoef\n",
    "\n",
    "# peritungan mcc\n",
    "mcc = matthews_corrcoef(y_test, y_pred)\n",
    "\n",
    "print(f\"MCC: {mcc}\")"
   ]
  }
 ],
 "metadata": {
  "kernelspec": {
   "display_name": "Python 3",
   "language": "python",
   "name": "python3"
  },
  "language_info": {
   "codemirror_mode": {
    "name": "ipython",
    "version": 3
   },
   "file_extension": ".py",
   "mimetype": "text/x-python",
   "name": "python",
   "nbconvert_exporter": "python",
   "pygments_lexer": "ipython3",
   "version": "3.8.8"
  }
 },
 "nbformat": 4,
 "nbformat_minor": 5
}
