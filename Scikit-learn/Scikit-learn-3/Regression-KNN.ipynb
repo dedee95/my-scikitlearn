{
 "cells": [
  {
   "cell_type": "markdown",
   "id": "3e3b12e9",
   "metadata": {},
   "source": [
    "# Regression dengan KNN"
   ]
  },
  {
   "cell_type": "markdown",
   "id": "8cb575b4",
   "metadata": {},
   "source": [
    "<ul>\n",
    "    <li>KNN merupakan model machine learning yang dapat digunakan untuk melakukan prediksi berdasarkan  kedekatan karakteristik dengan sejumlah tetangga terdekat.</li>\n",
    "    <li>Prediksi dapat diterapkan dengan baik pada classification dan regression tasks.</li>\n",
    "</ul>"
   ]
  },
  {
   "cell_type": "markdown",
   "id": "d2b5b792",
   "metadata": {},
   "source": [
    "### Sample Dataset"
   ]
  },
  {
   "cell_type": "code",
   "execution_count": 98,
   "id": "30ea3086",
   "metadata": {},
   "outputs": [
    {
     "data": {
      "text/html": [
       "<div>\n",
       "<style scoped>\n",
       "    .dataframe tbody tr th:only-of-type {\n",
       "        vertical-align: middle;\n",
       "    }\n",
       "\n",
       "    .dataframe tbody tr th {\n",
       "        vertical-align: top;\n",
       "    }\n",
       "\n",
       "    .dataframe thead th {\n",
       "        text-align: right;\n",
       "    }\n",
       "</style>\n",
       "<table border=\"1\" class=\"dataframe\">\n",
       "  <thead>\n",
       "    <tr style=\"text-align: right;\">\n",
       "      <th></th>\n",
       "      <th>tinggi</th>\n",
       "      <th>gender</th>\n",
       "      <th>berat</th>\n",
       "    </tr>\n",
       "  </thead>\n",
       "  <tbody>\n",
       "    <tr>\n",
       "      <th>0</th>\n",
       "      <td>150</td>\n",
       "      <td>pria</td>\n",
       "      <td>64</td>\n",
       "    </tr>\n",
       "    <tr>\n",
       "      <th>1</th>\n",
       "      <td>170</td>\n",
       "      <td>pria</td>\n",
       "      <td>86</td>\n",
       "    </tr>\n",
       "    <tr>\n",
       "      <th>2</th>\n",
       "      <td>183</td>\n",
       "      <td>pria</td>\n",
       "      <td>84</td>\n",
       "    </tr>\n",
       "    <tr>\n",
       "      <th>3</th>\n",
       "      <td>191</td>\n",
       "      <td>pria</td>\n",
       "      <td>80</td>\n",
       "    </tr>\n",
       "    <tr>\n",
       "      <th>4</th>\n",
       "      <td>155</td>\n",
       "      <td>wanita</td>\n",
       "      <td>49</td>\n",
       "    </tr>\n",
       "    <tr>\n",
       "      <th>5</th>\n",
       "      <td>163</td>\n",
       "      <td>wanita</td>\n",
       "      <td>59</td>\n",
       "    </tr>\n",
       "    <tr>\n",
       "      <th>6</th>\n",
       "      <td>180</td>\n",
       "      <td>wanita</td>\n",
       "      <td>67</td>\n",
       "    </tr>\n",
       "    <tr>\n",
       "      <th>7</th>\n",
       "      <td>158</td>\n",
       "      <td>wanita</td>\n",
       "      <td>54</td>\n",
       "    </tr>\n",
       "    <tr>\n",
       "      <th>8</th>\n",
       "      <td>170</td>\n",
       "      <td>wanita</td>\n",
       "      <td>67</td>\n",
       "    </tr>\n",
       "  </tbody>\n",
       "</table>\n",
       "</div>"
      ],
      "text/plain": [
       "   tinggi  gender  berat\n",
       "0     150    pria     64\n",
       "1     170    pria     86\n",
       "2     183    pria     84\n",
       "3     191    pria     80\n",
       "4     155  wanita     49\n",
       "5     163  wanita     59\n",
       "6     180  wanita     67\n",
       "7     158  wanita     54\n",
       "8     170  wanita     67"
      ]
     },
     "execution_count": 98,
     "metadata": {},
     "output_type": "execute_result"
    }
   ],
   "source": [
    "import pandas as pd\n",
    "sensus = {\n",
    "    'tinggi': [150, 170, 183, 191, 155, 163, 180, 158, 170],\n",
    "    'gender': [\"pria\", \"pria\", \"pria\", \"pria\", \"wanita\", \"wanita\", \"wanita\" , \"wanita\", \"wanita\"],\n",
    "    'berat': [64, 86, 84, 80, 49, 59, 67, 54, 67]\n",
    "    \n",
    "}\n",
    "\n",
    "sensus_df = pd.DataFrame(sensus)\n",
    "sensus_df"
   ]
  },
  {
   "cell_type": "markdown",
   "id": "43b7c8c4",
   "metadata": {},
   "source": [
    "#### Features dan Target"
   ]
  },
  {
   "cell_type": "code",
   "execution_count": 99,
   "id": "80d7db04",
   "metadata": {},
   "outputs": [
    {
     "name": "stdout",
     "output_type": "stream",
     "text": [
      "x_train: \n",
      "[[150 'pria']\n",
      " [170 'pria']\n",
      " [183 'pria']\n",
      " [191 'pria']\n",
      " [155 'wanita']\n",
      " [163 'wanita']\n",
      " [180 'wanita']\n",
      " [158 'wanita']\n",
      " [170 'wanita']]\n",
      "\n",
      "y_train: [64 86 84 80 49 59 67 54 67]\n"
     ]
    }
   ],
   "source": [
    "import numpy as np\n",
    "\n",
    "x_train = np.array(sensus_df[['tinggi','gender']]) # features\n",
    "y_train = np.array(sensus_df['berat']) # target\n",
    "\n",
    "print(f\"x_train: \\n{x_train}\\n\")\n",
    "print(f\"y_train: {y_train}\")"
   ]
  },
  {
   "cell_type": "markdown",
   "id": "895e848a",
   "metadata": {},
   "source": [
    "#### Preprocessing Dataset: Konversi label menjadi numeric Biner"
   ]
  },
  {
   "cell_type": "code",
   "execution_count": 100,
   "id": "89a6b51b",
   "metadata": {},
   "outputs": [
    {
     "name": "stdout",
     "output_type": "stream",
     "text": [
      "x_train: \n",
      "[[150 'pria']\n",
      " [170 'pria']\n",
      " [183 'pria']\n",
      " [191 'pria']\n",
      " [155 'wanita']\n",
      " [163 'wanita']\n",
      " [180 'wanita']\n",
      " [158 'wanita']\n",
      " [170 'wanita']]\n",
      "\n",
      "x_train_transposed: \n",
      " [[150 170 183 191 155 163 180 158 170]\n",
      " ['pria' 'pria' 'pria' 'pria' 'wanita' 'wanita' 'wanita' 'wanita'\n",
      "  'wanita']]\n"
     ]
    }
   ],
   "source": [
    "# mentranspos dataset features\n",
    "x_train_transposed = np.transpose(x_train)\n",
    "\n",
    "print(f\"x_train: \\n{x_train}\\n\")\n",
    "print(f\"x_train_transposed: \\n {x_train_transposed}\")"
   ]
  },
  {
   "cell_type": "code",
   "execution_count": 101,
   "id": "d25ae200",
   "metadata": {},
   "outputs": [
    {
     "name": "stdout",
     "output_type": "stream",
     "text": [
      "gender: ['pria' 'pria' 'pria' 'pria' 'wanita' 'wanita' 'wanita' 'wanita' 'wanita']\n",
      "\n",
      "gender_binarised:\n",
      " [[0]\n",
      " [0]\n",
      " [0]\n",
      " [0]\n",
      " [1]\n",
      " [1]\n",
      " [1]\n",
      " [1]\n",
      " [1]]\n"
     ]
    }
   ],
   "source": [
    "# mengubah label ke numeric\n",
    "from sklearn.preprocessing import LabelBinarizer\n",
    "\n",
    "lb = LabelBinarizer()\n",
    "gender_binarised = lb.fit_transform(x_train_transposed[1])\n",
    "\n",
    "print(f\"gender: {x_train_transposed[1]}\\n\")\n",
    "print(f\"gender_binarised:\\n {gender_binarised}\")"
   ]
  },
  {
   "cell_type": "code",
   "execution_count": 102,
   "id": "c1bbc13f",
   "metadata": {},
   "outputs": [
    {
     "data": {
      "text/plain": [
       "array([0, 0, 0, 0, 1, 1, 1, 1, 1])"
      ]
     },
     "execution_count": 102,
     "metadata": {},
     "output_type": "execute_result"
    }
   ],
   "source": [
    "# mengubah ke bentuk 1 dimensi\n",
    "gender_binarised = gender_binarised.flatten()\n",
    "gender_binarised"
   ]
  },
  {
   "cell_type": "code",
   "execution_count": 122,
   "id": "756afe80",
   "metadata": {},
   "outputs": [
    {
     "name": "stdout",
     "output_type": "stream",
     "text": [
      "x_train_transposed: [[150 170 183 191 155 163 180 158 170]\n",
      " [0 0 0 0 1 1 1 1 1]]\n",
      "\n",
      "x_train: \n",
      "[[150 0]\n",
      " [170 0]\n",
      " [183 0]\n",
      " [191 0]\n",
      " [155 1]\n",
      " [163 1]\n",
      " [180 1]\n",
      " [158 1]\n",
      " [170 1]]\n"
     ]
    }
   ],
   "source": [
    "# mengembalikan nilai gender ke dalam variabel x_train\n",
    "x_train_transposed[1] = gender_binarised\n",
    "x_train = x_train_transposed.transpose()\n",
    "\n",
    "print(f\"x_train_transposed: {x_train_transposed}\\n\")\n",
    "print(f\"x_train: \\n{x_train}\")"
   ]
  },
  {
   "cell_type": "markdown",
   "id": "2b15cece",
   "metadata": {},
   "source": [
    "### Training KNN Regression Model"
   ]
  },
  {
   "cell_type": "code",
   "execution_count": 104,
   "id": "8328dfd8",
   "metadata": {},
   "outputs": [
    {
     "data": {
      "text/plain": [
       "KNeighborsRegressor(n_neighbors=3)"
      ]
     },
     "execution_count": 104,
     "metadata": {},
     "output_type": "execute_result"
    }
   ],
   "source": [
    "from sklearn.neighbors import KNeighborsRegressor\n",
    "\n",
    "k = 3 # kelas terdekat di setting sejumlah 3\n",
    "model = KNeighborsRegressor(n_neighbors=k)\n",
    "model.fit(x_train, y_train)"
   ]
  },
  {
   "cell_type": "markdown",
   "id": "42baa09d",
   "metadata": {},
   "source": [
    "### Prediksi BB\n"
   ]
  },
  {
   "cell_type": "code",
   "execution_count": 105,
   "id": "08167468",
   "metadata": {},
   "outputs": [
    {
     "data": {
      "text/plain": [
       "array([[155,   1]])"
      ]
     },
     "execution_count": 105,
     "metadata": {},
     "output_type": "execute_result"
    }
   ],
   "source": [
    "# menyiapakan nilai feature yang akan di prediksi\n",
    "x_new = np.array([[155,1]])\n",
    "x_new"
   ]
  },
  {
   "cell_type": "code",
   "execution_count": 106,
   "id": "93005423",
   "metadata": {},
   "outputs": [
    {
     "data": {
      "text/plain": [
       "array([55.66666667])"
      ]
     },
     "execution_count": 106,
     "metadata": {},
     "output_type": "execute_result"
    }
   ],
   "source": [
    "y_pred = model.predict(x_new)\n",
    "y_pred"
   ]
  },
  {
   "cell_type": "markdown",
   "id": "da0720f9",
   "metadata": {},
   "source": [
    "### Evaluasi KNN Regression Model\n",
    "Evaluasi adalah tentang membandingkan nilai target dengan nilai hasil prediksi"
   ]
  },
  {
   "cell_type": "code",
   "execution_count": 107,
   "id": "50deee76",
   "metadata": {},
   "outputs": [
    {
     "name": "stdout",
     "output_type": "stream",
     "text": [
      "x_test: \n",
      "[[168   0]\n",
      " [180   0]\n",
      " [160   1]\n",
      " [169   1]]\n",
      "\n",
      "y_test: [65 96 52 67]\n"
     ]
    }
   ],
   "source": [
    "# menyiapkan data untuk testing set\n",
    "x_test = np.array([[168,0], [180,0], [160,1],[169,1]]) # features\n",
    "y_test = np.array([65,96,52,67]) # target\n",
    "\n",
    "print(f\"x_test: \\n{x_test}\\n\")\n",
    "print(f\"y_test: {y_test}\")"
   ]
  },
  {
   "cell_type": "code",
   "execution_count": 108,
   "id": "170a2c9c",
   "metadata": {},
   "outputs": [
    {
     "data": {
      "text/plain": [
       "array([70.66666667, 79.        , 54.        , 70.66666667])"
      ]
     },
     "execution_count": 108,
     "metadata": {},
     "output_type": "execute_result"
    }
   ],
   "source": [
    "# membuat prediksi dari nilai feature\n",
    "y_pred = model.predict(x_test)\n",
    "y_pred"
   ]
  },
  {
   "cell_type": "markdown",
   "id": "590b0523",
   "metadata": {},
   "source": [
    "#### 1. Coefisien of Determination R2"
   ]
  },
  {
   "cell_type": "code",
   "execution_count": 109,
   "id": "2a1614dd",
   "metadata": {},
   "outputs": [
    {
     "name": "stdout",
     "output_type": "stream",
     "text": [
      "R_squared: 0.6725768321513002\n"
     ]
    }
   ],
   "source": [
    "from sklearn.metrics import r2_score\n",
    "\n",
    "r_squared = r2_score(y_test, y_pred)\n",
    "\n",
    "print(f\"R_squared: {r_squared}\")"
   ]
  },
  {
   "cell_type": "markdown",
   "id": "27064b5a",
   "metadata": {},
   "source": [
    "#### 2. Mean Absolute Error (MAE) atau Mean Absolute Deviation (MAD)\n",
    "<img src=\"mae.png\">\n",
    "MAE adalah nilai rata rata dari absolute error dari prediksi. <br><br>\n",
    "yi = nilai target pada testing set<br>\n",
    "yi^ = nilai prediksi yang dihasilkan dari model<br>\n",
    "\n",
    "jika hasil prediksi lebih kecil dari semestinya maka nilai positif dan sebaliknya."
   ]
  },
  {
   "cell_type": "code",
   "execution_count": 110,
   "id": "cb4670c1",
   "metadata": {},
   "outputs": [
    {
     "name": "stdout",
     "output_type": "stream",
     "text": [
      "MAE: 7.083333333333336\n"
     ]
    }
   ],
   "source": [
    "from sklearn.metrics import mean_absolute_error\n",
    "\n",
    "MAE = mean_absolute_error(y_test, y_pred)\n",
    "\n",
    "print(f\"MAE: {MAE}\")"
   ]
  },
  {
   "cell_type": "markdown",
   "id": "561c7bf1",
   "metadata": {},
   "source": [
    "#### 3. Mean Squared Error (MSE) atau Mean Squared Deviation (MSD)\n",
    "<img src=\"mse.png\">\n",
    "MSE adalah nilai rata rata dari R2.<br>\n",
    "karena yang di hitung nilai error maka semakin kecil nilainya maka semakin bagus modelnya."
   ]
  },
  {
   "cell_type": "code",
   "execution_count": 111,
   "id": "245a12ca",
   "metadata": {},
   "outputs": [
    {
     "name": "stdout",
     "output_type": "stream",
     "text": [
      "MSE: 84.6388888888889\n"
     ]
    }
   ],
   "source": [
    "from sklearn.metrics import mean_squared_error\n",
    "\n",
    "MSE = mean_squared_error(y_test, y_pred)\n",
    "\n",
    "print(f\"MSE: {MSE}\")"
   ]
  },
  {
   "cell_type": "markdown",
   "id": "30dec6dd",
   "metadata": {},
   "source": [
    "### Permasalahan Scalling pada Features\n",
    "membuktikan apakah perbedaan pengukuran akan memengaruhi konsistensi hasil pengukuran euclidean distance."
   ]
  },
  {
   "cell_type": "code",
   "execution_count": 112,
   "id": "220cdadc",
   "metadata": {},
   "outputs": [
    {
     "data": {
      "text/plain": [
       "[60.0, 40.01249804748511]"
      ]
     },
     "execution_count": 112,
     "metadata": {},
     "output_type": "execute_result"
    }
   ],
   "source": [
    "from scipy.spatial.distance import euclidean\n",
    "\n",
    "# tinggi dalam milimeter\n",
    "x_train = np.array([[1700,0], [1600,1]])\n",
    "x_new = np.array([[1640,0]]) # data point yang akan di prediksi\n",
    "\n",
    "[euclidean(x_new[0], i) for i in x_train]"
   ]
  },
  {
   "cell_type": "code",
   "execution_count": 113,
   "id": "0a974b7b",
   "metadata": {},
   "outputs": [
    {
     "data": {
      "text/plain": [
       "[0.06000000000000005, 1.0007996802557442]"
      ]
     },
     "execution_count": 113,
     "metadata": {},
     "output_type": "execute_result"
    }
   ],
   "source": [
    "# tinggi dalam meter\n",
    "x_train = np.array([[1.7,0], [1.6,1]])\n",
    "x_new = np.array([[1.64,0]]) \n",
    "\n",
    "[euclidean(x_new[0], i) for i in x_train]"
   ]
  },
  {
   "cell_type": "markdown",
   "id": "5428e3d7",
   "metadata": {},
   "source": [
    "### Penyelesaian Permasalahan pada Scalling Features\n",
    "#### 1. Menerapkan Standard Scaller (standard score atau z-score)\n",
    "Z-score adalah angka yang merupakan perbedaan antara nilai data dan rata-rata, dibagi dengan standar deviasi\n",
    "<img src=\"z-score.png\">\n",
    "x = nilai features<br>\n",
    "S = standard deviation"
   ]
  },
  {
   "cell_type": "code",
   "execution_count": 114,
   "id": "d59aef02",
   "metadata": {},
   "outputs": [],
   "source": [
    "from sklearn.preprocessing import  StandardScaler\n",
    "\n",
    "# membentuk object dari standard scaller\n",
    "ss = StandardScaler()"
   ]
  },
  {
   "cell_type": "code",
   "execution_count": 115,
   "id": "09832a8f",
   "metadata": {},
   "outputs": [
    {
     "name": "stdout",
     "output_type": "stream",
     "text": [
      "x_train_scaled: \n",
      "[[ 1. -1.]\n",
      " [-1.  1.]]\n",
      "\n",
      "x_new_scled: [[-0.2 -1. ]]\n",
      "\n",
      "jarak: [1.2, 2.1540659228538015]\n"
     ]
    }
   ],
   "source": [
    "# tinggi dalam milimeter\n",
    "x_train = np.array([[1700,0], [1600,1]])\n",
    "x_train_scaled = ss.fit_transform(x_train)\n",
    "print(f\"x_train_scaled: \\n{x_train_scaled}\\n\")\n",
    "\n",
    "\n",
    "x_new = np.array([[1640, 0]])\n",
    "x_new_scaled = ss.transform(x_new)\n",
    "print(f\"x_new_scled: {x_new_scaled}\\n\")\n",
    "\n",
    "# satuan akan menggunakan standard z-score\n",
    "jarak = [euclidean(x_new_scaled[0], i) for i in x_train_scaled]\n",
    "print(f\"jarak: {jarak}\")"
   ]
  },
  {
   "cell_type": "code",
   "execution_count": 116,
   "id": "469dbd21",
   "metadata": {},
   "outputs": [
    {
     "name": "stdout",
     "output_type": "stream",
     "text": [
      "x_train_scaled: \n",
      "[[ 1. -1.]\n",
      " [-1.  1.]]\n",
      "\n",
      "x_new_scled: [[-0.2 -1. ]]\n",
      "\n",
      "jarak: [1.2000000000000026, 2.1540659228538006]\n"
     ]
    }
   ],
   "source": [
    "# tinggi dalam meter\n",
    "x_train = np.array([[1.7,0], [1.6,1]])\n",
    "x_train_scaled = ss.fit_transform(x_train)\n",
    "print(f\"x_train_scaled: \\n{x_train_scaled}\\n\")\n",
    "\n",
    "\n",
    "x_new = np.array([[1.640, 0]])\n",
    "x_new_scaled = ss.transform(x_new)\n",
    "print(f\"x_new_scled: {x_new_scaled}\\n\")\n",
    "\n",
    "# satuan akan menggunakan standard z-score\n",
    "jarak = [euclidean(x_new_scaled[0], i) for i in x_train_scaled]\n",
    "print(f\"jarak: {jarak}\")"
   ]
  },
  {
   "cell_type": "markdown",
   "id": "f5f9a22a",
   "metadata": {},
   "source": [
    "### Menerapkan Features Scalling pada KNN\n",
    "#### Dataset"
   ]
  },
  {
   "cell_type": "code",
   "execution_count": 129,
   "id": "c4c464f6",
   "metadata": {},
   "outputs": [
    {
     "name": "stdout",
     "output_type": "stream",
     "text": [
      "x_train: \n",
      "[[150 0]\n",
      " [170 0]\n",
      " [183 0]\n",
      " [191 0]\n",
      " [155 1]\n",
      " [163 1]\n",
      " [180 1]\n",
      " [158 1]\n",
      " [170 1]]\n",
      "\n",
      "y_train: [64 86 84 80 49 59 67 54 67]\n",
      "\n",
      "x_test: \n",
      "[[168   0]\n",
      " [180   0]\n",
      " [160   1]\n",
      " [169   1]]\n",
      "\n",
      "y_test: [65 96 52 67]\n"
     ]
    }
   ],
   "source": [
    "# training set\n",
    "print(f\"x_train: \\n{x_train}\\n\")\n",
    "print(f\"y_train: {y_train}\\n\")\n",
    "\n",
    "# test set\n",
    "print(f\"x_test: \\n{x_test}\\n\")\n",
    "print(f\"y_test: {y_test}\")"
   ]
  },
  {
   "cell_type": "markdown",
   "id": "8c4a6d42",
   "metadata": {},
   "source": [
    "#### Features Scalling (Standard Scaller)"
   ]
  },
  {
   "cell_type": "code",
   "execution_count": 130,
   "id": "93772258",
   "metadata": {},
   "outputs": [
    {
     "name": "stdout",
     "output_type": "stream",
     "text": [
      "x_train_scaled: \n",
      "[[-1.45495909 -1.11803399]\n",
      " [ 0.08558583 -1.11803399]\n",
      " [ 1.08694002 -1.11803399]\n",
      " [ 1.70315799 -1.11803399]\n",
      " [-1.06982286  0.89442719]\n",
      " [-0.45360489  0.89442719]\n",
      " [ 0.85585829  0.89442719]\n",
      " [-0.83874112  0.89442719]\n",
      " [ 0.08558583  0.89442719]]\n",
      "\n",
      "x_new_scaled: \n",
      "[[-0.06846866 -1.11803399]\n",
      " [ 0.85585829 -1.11803399]\n",
      " [-0.68468663  0.89442719]\n",
      " [ 0.00855858  0.89442719]]\n",
      "\n"
     ]
    }
   ],
   "source": [
    "x_train_scaled = ss.fit_transform(x_train)\n",
    "x_test_scaled = ss.transform(x_test)\n",
    "\n",
    "print(f\"x_train_scaled: \\n{x_train_scaled}\\n\")\n",
    "print(f\"x_test_scaled: \\n{x_test_scaled}\\n\")"
   ]
  },
  {
   "cell_type": "markdown",
   "id": "5a325743",
   "metadata": {},
   "source": [
    "### Training dan Evaluasi Model"
   ]
  },
  {
   "cell_type": "code",
   "execution_count": 131,
   "id": "0534eca2",
   "metadata": {},
   "outputs": [
    {
     "name": "stdout",
     "output_type": "stream",
     "text": [
      "MAE: 7.583333333333336\n",
      "MSE: 85.13888888888893\n"
     ]
    }
   ],
   "source": [
    "model.fit(x_train_scaled, y_train)\n",
    "y_pred = model.predict(x_test_scaled)\n",
    "\n",
    "MAE = mean_absolute_error(y_test, y_pred)\n",
    "MSE = mean_squared_error(y_test, y_pred)\n",
    "\n",
    "print(f\"MAE: {MAE}\")\n",
    "print(f\"MSE: {MSE}\")"
   ]
  }
 ],
 "metadata": {
  "kernelspec": {
   "display_name": "Python 3",
   "language": "python",
   "name": "python3"
  },
  "language_info": {
   "codemirror_mode": {
    "name": "ipython",
    "version": 3
   },
   "file_extension": ".py",
   "mimetype": "text/x-python",
   "name": "python",
   "nbconvert_exporter": "python",
   "pygments_lexer": "ipython3",
   "version": "3.8.8"
  }
 },
 "nbformat": 4,
 "nbformat_minor": 5
}
