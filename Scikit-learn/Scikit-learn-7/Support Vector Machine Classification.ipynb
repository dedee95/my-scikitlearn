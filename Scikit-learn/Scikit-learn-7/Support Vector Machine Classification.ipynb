{
 "cells": [
  {
   "cell_type": "markdown",
   "id": "049799d4",
   "metadata": {},
   "source": [
    "# Support Vector Machine Classification (SVM)\n",
    "Support Vector Machine (SVM) merupakan salah satu metode yang banyak mendapat perhatian dalam Pattern Recognition sebagai state of the art. Di mana pattern recognition, adalah metode pemetaan suatu data ke dalam konsep tertentu yang disebut juga Category atau Class. Dan dalam metode SVM ini secara matematisn jauh lebih jelas dibandingkan dengan teknik klasifikasi lainnya, serta mampu mengatasi masalah klasifikasi dan regresi dengan linier maupun non linier.  <strong>Intinya SVM mencari decision boundary yang dapat memisahkan antar kelas dengan baik.</strong>\n",
    "### Konsep Dasar\n",
    "#### Decision Boundary (Hyperplane)\n",
    "merupakan pemisah antar kelas. $H_3$ merupakan garis pemisah antar kelas yang paling cocok.\n",
    "<img src='hyperlane.png' style='width:300px'>\n",
    "#### Maximum Margin\n",
    "Margin ditentukan berdasarkan jarak terdekat antara decision boundary dengan anggota kelas yang ditentukan.\n",
    "<img src=\"margin.png\" style='width:300px'>\n",
    "#### Liearnly Inseperable & Kernel Trics\n",
    "ada sebuah kondisi dimana kita tidak bisa menarik 2 garis linear yang memisahkan kedua kelas (2 dimensi), harus di proyeksikan ke dalam 3 dimensi terlebih dahulu supaya lebih terlihat dan dapat ditarik garis bidang untuk memisakan kelasnya.\n",
    "<img src='linearly.png'>"
   ]
  },
  {
   "cell_type": "markdown",
   "id": "07485e7e",
   "metadata": {},
   "source": [
    "### Dataset: The MNIST database of handwritten digits"
   ]
  },
  {
   "cell_type": "code",
   "execution_count": 13,
   "id": "d58ecb26",
   "metadata": {},
   "outputs": [
    {
     "data": {
      "text/plain": [
       "(70000, 784)"
      ]
     },
     "execution_count": 13,
     "metadata": {},
     "output_type": "execute_result"
    }
   ],
   "source": [
    "from sklearn.datasets import fetch_openml\n",
    "\n",
    "X, y = fetch_openml('mnist_784', return_X_y=True)\n",
    "X.shape"
   ]
  },
  {
   "cell_type": "code",
   "execution_count": 24,
   "id": "0ea6de92",
   "metadata": {},
   "outputs": [
    {
     "name": "stdout",
     "output_type": "stream",
     "text": [
      "X_train shape: (60000, 784)\n",
      "y_train shape: (60000,)\n",
      "X_test shape: (10000, 784)\n",
      "y_test shape: (10000,)\n"
     ]
    }
   ],
   "source": [
    "# persiapan dataset untuk train dan test\n",
    "X_train = X[:60000]\n",
    "y_train = y[:60000]\n",
    "\n",
    "X_test = X[60000:]\n",
    "y_test = y[60000:]\n",
    "\n",
    "print(f'X_train shape: {X_train.shape}')\n",
    "print(f'y_train shape: {y_train.shape}')\n",
    "print(f'X_test shape: {X_test.shape}')\n",
    "print(f'y_test shape: {y_test.shape}')"
   ]
  },
  {
   "cell_type": "markdown",
   "id": "7bf5c98b",
   "metadata": {},
   "source": [
    "### Clasification dengan SVC (Support Vector Classifier)"
   ]
  },
  {
   "cell_type": "code",
   "execution_count": 30,
   "id": "e07ab544",
   "metadata": {},
   "outputs": [
    {
     "data": {
      "text/plain": [
       "SVC(random_state=0)"
      ]
     },
     "execution_count": 30,
     "metadata": {},
     "output_type": "execute_result"
    }
   ],
   "source": [
    "# training model\n",
    "from sklearn.svm import SVC\n",
    "\n",
    "model = SVC(random_state=0)\n",
    "model.fit(X_train, y_train)"
   ]
  },
  {
   "cell_type": "code",
   "execution_count": 29,
   "id": "45471b09",
   "metadata": {},
   "outputs": [
    {
     "name": "stdout",
     "output_type": "stream",
     "text": [
      "              precision    recall  f1-score   support\n",
      "\n",
      "           0       0.98      0.99      0.99       980\n",
      "           1       0.99      0.99      0.99      1135\n",
      "           2       0.98      0.97      0.98      1032\n",
      "           3       0.97      0.99      0.98      1010\n",
      "           4       0.98      0.98      0.98       982\n",
      "           5       0.99      0.98      0.98       892\n",
      "           6       0.99      0.99      0.99       958\n",
      "           7       0.98      0.97      0.97      1028\n",
      "           8       0.97      0.98      0.97       974\n",
      "           9       0.97      0.96      0.97      1009\n",
      "\n",
      "    accuracy                           0.98     10000\n",
      "   macro avg       0.98      0.98      0.98     10000\n",
      "weighted avg       0.98      0.98      0.98     10000\n",
      "\n"
     ]
    }
   ],
   "source": [
    "# evaluasi model\n",
    "from sklearn.metrics import classification_report\n",
    "\n",
    "y_pred = model.predict(X_test)\n",
    "print(classification_report(y_test, y_pred))"
   ]
  },
  {
   "cell_type": "markdown",
   "id": "c5e13102",
   "metadata": {},
   "source": [
    "#### Hyperparameter Tuning dengan GridsearchCV "
   ]
  },
  {
   "cell_type": "code",
   "execution_count": null,
   "id": "7ee71b9b",
   "metadata": {},
   "outputs": [
    {
     "name": "stdout",
     "output_type": "stream",
     "text": [
      "Fitting 5 folds for each of 60 candidates, totalling 300 fits\n"
     ]
    }
   ],
   "source": [
    "from sklearn.model_selection import GridSearchCV\n",
    "\n",
    "parameters = {\n",
    "    'kernel': ['rbf', 'poly', 'sigmoid'],\n",
    "    'C': [0.5, 1, 10, 100],\n",
    "    'gamma': ['scale', 1, 0.1, 0.01, 0.001]\n",
    "}\n",
    "\n",
    "grid_search = GridSearchCV(estimator=SVC(random_state=0), \n",
    "                         param_grid=parameters,\n",
    "                         n_jobs=6, # number of job = mejalankan proses ini secara parale pada 6 treat prosesor\n",
    "                         verbose=1,\n",
    "                         scoring='accuracy')\n",
    "\n",
    "grid_search.fit(X_train, y_train)"
   ]
  },
  {
   "cell_type": "code",
   "execution_count": null,
   "id": "cda2851c",
   "metadata": {},
   "outputs": [],
   "source": []
  }
 ],
 "metadata": {
  "kernelspec": {
   "display_name": "Python 3",
   "language": "python",
   "name": "python3"
  },
  "language_info": {
   "codemirror_mode": {
    "name": "ipython",
    "version": 3
   },
   "file_extension": ".py",
   "mimetype": "text/x-python",
   "name": "python",
   "nbconvert_exporter": "python",
   "pygments_lexer": "ipython3",
   "version": "3.8.8"
  }
 },
 "nbformat": 4,
 "nbformat_minor": 5
}
