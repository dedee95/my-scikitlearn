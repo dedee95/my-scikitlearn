{
 "cells": [
  {
   "cell_type": "markdown",
   "id": "0b333bea",
   "metadata": {},
   "source": [
    "# Logistic Regression pada Binary Classification Task\n"
   ]
  },
  {
   "cell_type": "markdown",
   "id": "b91a0be3",
   "metadata": {},
   "source": [
    "#### Formula Dasar\n",
    "<img src=\"logistic.png\" style=\"width:350px\">\n",
    "<img src=\"logistic2.png\" style=\"width:350px\">\n",
    "Rentang nilai sumbu y hanya akan ada 0 sampai 1. Pada classification task label akan di encoding menjadi nilai 0 dan 1, jadi jika graik mendekati satu maka akan diklasifikasikan sebagai kelas 1 dan sebaliknya."
   ]
  },
  {
   "cell_type": "markdown",
   "id": "43f194f2",
   "metadata": {},
   "source": [
    "### Dataset: SMS Spam Collection \n",
    "Tujuan: mengklasifikasikan apakah suatu sms diklasifikasikan sebagai spam atau ham"
   ]
  },
  {
   "cell_type": "code",
   "execution_count": 7,
   "id": "ee3ac25f",
   "metadata": {},
   "outputs": [
    {
     "data": {
      "text/html": [
       "<div>\n",
       "<style scoped>\n",
       "    .dataframe tbody tr th:only-of-type {\n",
       "        vertical-align: middle;\n",
       "    }\n",
       "\n",
       "    .dataframe tbody tr th {\n",
       "        vertical-align: top;\n",
       "    }\n",
       "\n",
       "    .dataframe thead th {\n",
       "        text-align: right;\n",
       "    }\n",
       "</style>\n",
       "<table border=\"1\" class=\"dataframe\">\n",
       "  <thead>\n",
       "    <tr style=\"text-align: right;\">\n",
       "      <th></th>\n",
       "      <th>label</th>\n",
       "      <th>sms</th>\n",
       "    </tr>\n",
       "  </thead>\n",
       "  <tbody>\n",
       "    <tr>\n",
       "      <th>0</th>\n",
       "      <td>ham</td>\n",
       "      <td>Go until jurong point, crazy.. Available only ...</td>\n",
       "    </tr>\n",
       "    <tr>\n",
       "      <th>1</th>\n",
       "      <td>ham</td>\n",
       "      <td>Ok lar... Joking wif u oni...</td>\n",
       "    </tr>\n",
       "    <tr>\n",
       "      <th>2</th>\n",
       "      <td>spam</td>\n",
       "      <td>Free entry in 2 a wkly comp to win FA Cup fina...</td>\n",
       "    </tr>\n",
       "    <tr>\n",
       "      <th>3</th>\n",
       "      <td>ham</td>\n",
       "      <td>U dun say so early hor... U c already then say...</td>\n",
       "    </tr>\n",
       "    <tr>\n",
       "      <th>4</th>\n",
       "      <td>ham</td>\n",
       "      <td>Nah I don't think he goes to usf, he lives aro...</td>\n",
       "    </tr>\n",
       "    <tr>\n",
       "      <th>...</th>\n",
       "      <td>...</td>\n",
       "      <td>...</td>\n",
       "    </tr>\n",
       "    <tr>\n",
       "      <th>5567</th>\n",
       "      <td>spam</td>\n",
       "      <td>This is the 2nd time we have tried 2 contact u...</td>\n",
       "    </tr>\n",
       "    <tr>\n",
       "      <th>5568</th>\n",
       "      <td>ham</td>\n",
       "      <td>Will ü b going to esplanade fr home?</td>\n",
       "    </tr>\n",
       "    <tr>\n",
       "      <th>5569</th>\n",
       "      <td>ham</td>\n",
       "      <td>Pity, * was in mood for that. So...any other s...</td>\n",
       "    </tr>\n",
       "    <tr>\n",
       "      <th>5570</th>\n",
       "      <td>ham</td>\n",
       "      <td>The guy did some bitching but I acted like i'd...</td>\n",
       "    </tr>\n",
       "    <tr>\n",
       "      <th>5571</th>\n",
       "      <td>ham</td>\n",
       "      <td>Rofl. Its true to its name</td>\n",
       "    </tr>\n",
       "  </tbody>\n",
       "</table>\n",
       "<p>5572 rows × 2 columns</p>\n",
       "</div>"
      ],
      "text/plain": [
       "     label                                                sms\n",
       "0      ham  Go until jurong point, crazy.. Available only ...\n",
       "1      ham                      Ok lar... Joking wif u oni...\n",
       "2     spam  Free entry in 2 a wkly comp to win FA Cup fina...\n",
       "3      ham  U dun say so early hor... U c already then say...\n",
       "4      ham  Nah I don't think he goes to usf, he lives aro...\n",
       "...    ...                                                ...\n",
       "5567  spam  This is the 2nd time we have tried 2 contact u...\n",
       "5568   ham               Will ü b going to esplanade fr home?\n",
       "5569   ham  Pity, * was in mood for that. So...any other s...\n",
       "5570   ham  The guy did some bitching but I acted like i'd...\n",
       "5571   ham                         Rofl. Its true to its name\n",
       "\n",
       "[5572 rows x 2 columns]"
      ]
     },
     "execution_count": 7,
     "metadata": {},
     "output_type": "execute_result"
    }
   ],
   "source": [
    "# menyiapkan dataset\n",
    "import pandas as pd\n",
    "\n",
    "df = pd.read_csv('SMSSpamCollection',\n",
    "                sep='\\t',\n",
    "                header=None,\n",
    "                names=['label', 'sms'])\n",
    "\n",
    "df"
   ]
  },
  {
   "cell_type": "code",
   "execution_count": 10,
   "id": "8188fca2",
   "metadata": {},
   "outputs": [
    {
     "data": {
      "text/plain": [
       "ham     4825\n",
       "spam     747\n",
       "Name: label, dtype: int64"
      ]
     },
     "execution_count": 10,
     "metadata": {},
     "output_type": "execute_result"
    }
   ],
   "source": [
    "# mengitung berapa banyak data ham dan data spam\n",
    "df['label'].value_counts()"
   ]
  },
  {
   "cell_type": "markdown",
   "id": "7875c9e0",
   "metadata": {},
   "source": [
    "### Training dan Testing Dataset"
   ]
  },
  {
   "cell_type": "code",
   "execution_count": 30,
   "id": "8fabb657",
   "metadata": {},
   "outputs": [
    {
     "data": {
      "text/plain": [
       "array(['ham', 'spam'], dtype='<U4')"
      ]
     },
     "execution_count": 30,
     "metadata": {},
     "output_type": "execute_result"
    }
   ],
   "source": [
    "from sklearn.preprocessing import LabelBinarizer\n",
    "\n",
    "x = df['sms'].values # expalanatory variabel\n",
    "y = df['label'].values # response variabel\n",
    "\n",
    "# konversi label ham dan spam\n",
    "lb = LabelBinarizer()\n",
    "y = lb.fit_transform(y).ravel() # mengubah ke dalam bentuk array 1D\n",
    "\n",
    "lb.classes_"
   ]
  },
  {
   "cell_type": "code",
   "execution_count": 36,
   "id": "9d24e362",
   "metadata": {},
   "outputs": [
    {
     "name": "stdout",
     "output_type": "stream",
     "text": [
      "(4179,)\n",
      "(4179,)\n",
      "(1393,)\n",
      "(1393,)\n",
      "\n",
      " ['Its going good...no problem..but still need little experience to understand american customer voice...'\n",
      " 'U have a secret admirer. REVEAL who thinks U R So special. Call 09065174042. To opt out Reply REVEAL STOP. 1.50 per msg recd. Cust care 07821230901'\n",
      " 'Ok...' ...\n",
      " \"For ur chance to win a £250 cash every wk TXT: ACTION to 80608. T's&C's www.movietrivia.tv custcare 08712405022, 1x150p/wk\"\n",
      " 'R U &SAM P IN EACHOTHER. IF WE MEET WE CAN GO 2 MY HOUSE'\n",
      " 'Mm feeling sleepy. today itself i shall get that dear']\n",
      "\n",
      "[0 1 0 ... 1 0 0]\n"
     ]
    }
   ],
   "source": [
    "# memisahkan data menjadi train dan testing dataset\n",
    "from sklearn.model_selection import train_test_split\n",
    "\n",
    "x_train, x_test, y_train, y_test = train_test_split(x,\n",
    "                                                    y,\n",
    "                                                    test_size=.25,\n",
    "                                                    random_state=0)\n",
    "print(x_train.shape)\n",
    "print(y_train.shape)\n",
    "print(x_test.shape)\n",
    "print(y_test.shape)\n",
    "\n",
    "print(f\"\\n {x_train}\\n\")\n",
    "print(y_train)"
   ]
  },
  {
   "cell_type": "markdown",
   "id": "bc20c47c",
   "metadata": {},
   "source": [
    "### Feature Extraction dengan TF-IDF"
   ]
  },
  {
   "cell_type": "code",
   "execution_count": 40,
   "id": "31a683c1",
   "metadata": {},
   "outputs": [
    {
     "name": "stdout",
     "output_type": "stream",
     "text": [
      "  (0, 6903)\t0.3591386422223876\n",
      "  (0, 2006)\t0.2898082580285881\n",
      "  (0, 900)\t0.4114867709157148\n",
      "  (0, 6739)\t0.3546359942830148\n",
      "  (0, 2554)\t0.3825278811525034\n",
      "  (0, 3926)\t0.3126721340000456\n",
      "  (0, 4453)\t0.2297719954323795\n",
      "  (0, 5123)\t0.308974289326673\n",
      "  (0, 3007)\t0.21421364306658514\n",
      "  (0, 2997)\t0.23173982975834367\n",
      "  (1, 36)\t0.28902673040368515\n",
      "  (1, 1548)\t0.18167737976542422\n",
      "  (1, 2003)\t0.2711077935907125\n",
      "  (1, 5301)\t0.2711077935907125\n",
      "  (1, 4358)\t0.17341410292348694\n",
      "  (1, 532)\t0.20186022353306565\n",
      "  (1, 6131)\t0.16142609035094446\n",
      "  (1, 5394)\t0.16464655071448758\n",
      "  (1, 4677)\t0.24039776602646504\n",
      "  (1, 216)\t0.28902673040368515\n",
      "  (1, 6013)\t0.20089911182610476\n",
      "  (1, 6472)\t0.24039776602646504\n",
      "  (1, 5441)\t0.5009783758205715\n",
      "  (1, 799)\t0.25048918791028574\n",
      "  (1, 5642)\t0.24344998442301355\n",
      "  :\t:\n",
      "  (4176, 343)\t0.2811068572055718\n",
      "  (4176, 107)\t0.29968668460649284\n",
      "  (4176, 2004)\t0.25589560236817055\n",
      "  (4176, 4350)\t0.29968668460649284\n",
      "  (4176, 637)\t0.29968668460649284\n",
      "  (4176, 7114)\t0.4512018097459442\n",
      "  (4176, 365)\t0.2388005587702937\n",
      "  (4176, 1612)\t0.21138425595332702\n",
      "  (4176, 779)\t0.2811068572055718\n",
      "  (4176, 7195)\t0.17892283441772988\n",
      "  (4176, 1569)\t0.18895085073406012\n",
      "  (4176, 7083)\t0.19523751585154273\n",
      "  (4176, 6684)\t0.22114159453800114\n",
      "  (4176, 6693)\t0.16491299289150899\n",
      "  (4176, 6792)\t0.1407604617250961\n",
      "  (4177, 2362)\t0.6158854885899457\n",
      "  (4177, 5565)\t0.5506066649743346\n",
      "  (4177, 4177)\t0.3636187667918345\n",
      "  (4177, 3319)\t0.43046342221720785\n",
      "  (4178, 5883)\t0.548491137555895\n",
      "  (4178, 4279)\t0.4530624713751054\n",
      "  (4178, 5720)\t0.3963527249882828\n",
      "  (4178, 6555)\t0.2897850627168302\n",
      "  (4178, 2641)\t0.3993042639531407\n",
      "  (4178, 2068)\t0.3055766821331892\n"
     ]
    }
   ],
   "source": [
    "from sklearn.feature_extraction.text import TfidfVectorizer\n",
    "\n",
    "# ekstraksi dengan tf-idf\n",
    "vectorizer = TfidfVectorizer(stop_words='english')\n",
    "x_train_tfidf = vectorizer.fit_transform(x_train)\n",
    "x_test_tfidf = vectorizer.transform(x_test)\n",
    "\n",
    "print(x_train_tfidf)"
   ]
  },
  {
   "cell_type": "markdown",
   "id": "fa201656",
   "metadata": {},
   "source": [
    "### Binary Classification dengan Logistic Regression"
   ]
  },
  {
   "cell_type": "code",
   "execution_count": 44,
   "id": "9e54ec79",
   "metadata": {},
   "outputs": [
    {
     "name": "stdout",
     "output_type": "stream",
     "text": [
      "PRED: 0 - SMS: Storming msg: Wen u lift d phne, u say \"HELLO\" Do u knw wt is d real meaning of HELLO?? . . . It's d name of a girl..! . . . Yes.. And u knw who is dat girl?? \"Margaret Hello\" She is d girlfrnd f Grahmbell who invnted telphone... . . . . Moral:One can 4get d name of a person, bt not his girlfrnd... G o o d n i g h t . . .@\n",
      "PRED: 0 - SMS: <Forwarded from 448712404000>Please CALL 08712404000 immediately as there is an urgent message waiting for you.\n",
      "PRED: 0 - SMS: And also I've sorta blown him off a couple times recently so id rather not text him out of the blue looking for weed\n",
      "PRED: 0 - SMS: Sir Goodmorning, Once free call me.\n",
      "PRED: 0 - SMS: All will come alive.better correct any good looking figure there itself..\n"
     ]
    }
   ],
   "source": [
    "from sklearn.linear_model import LogisticRegression\n",
    "\n",
    "model = LogisticRegression()\n",
    "model.fit(x_train_tfidf, y_train)\n",
    "y_pred = model.predict(x_test_tfidf)\n",
    "\n",
    "for pred,sms in zip(y_pred[:5], x_test[:5]):\n",
    "    print(f\"PRED: {pred} - SMS: {sms}\")"
   ]
  },
  {
   "cell_type": "markdown",
   "id": "c1788b71",
   "metadata": {},
   "source": [
    "### Evaluasi Metrics pada Binary Classification\n",
    "##### Terminologi Dasar\n",
    "<ul>\n",
    "    <li>True Positif (TP) ex: spam sebagai spam</li>\n",
    "    <li>True Negatif (TN) ex: ham sebagai bukan spam</li>\n",
    "    <li>False Positif (FP) ex: ham sebagai spam</li>\n",
    "    <li>False Negatif (FN) ex: ham sebagai bukan ham</li>\n",
    "</ul>"
   ]
  },
  {
   "cell_type": "markdown",
   "id": "f0ee505b",
   "metadata": {},
   "source": [
    "#### 1. Confusion Matrix\n",
    "Confusion matrix adalah sebuah tabel yang sering digunakan untuk mengukur kinerja dari model klasifikasi di machine learning. Tabel ini menggambarkan lebih detail tentang jumlah data yang diklasifikasikan dengan benar maupun salah. Dikenal juga sebagai error matrix. <br>\n",
    "<img src='https://www.justintodata.com/wp-content/uploads/2020/07/image.png'>"
   ]
  },
  {
   "cell_type": "code",
   "execution_count": 47,
   "id": "7458cc84",
   "metadata": {},
   "outputs": [
    {
     "data": {
      "text/plain": [
       "array([[1207,    1],\n",
       "       [  48,  137]], dtype=int64)"
      ]
     },
     "execution_count": 47,
     "metadata": {},
     "output_type": "execute_result"
    }
   ],
   "source": [
    "from sklearn.metrics import confusion_matrix\n",
    "\n",
    "matrix = confusion_matrix(y_test, y_pred)\n",
    "matrix"
   ]
  },
  {
   "cell_type": "code",
   "execution_count": 51,
   "id": "f5ca693b",
   "metadata": {},
   "outputs": [
    {
     "name": "stdout",
     "output_type": "stream",
     "text": [
      "TN: 1207\n",
      "FP: 1\n",
      "FN: 48\n",
      "TP: 137\n"
     ]
    }
   ],
   "source": [
    "# ekstraksi nilai dari conusion matrix\n",
    "# urutan jangan sampai keliru\n",
    "tn, fp, fn, tp = matrix.ravel() # diubah ke array 1D\n",
    " \n",
    "print(f\"TN: {tn}\")\n",
    "print(f\"FP: {fp}\")\n",
    "print(f\"FN: {fn}\")\n",
    "print(f\"TP: {tp}\")"
   ]
  },
  {
   "cell_type": "code",
   "execution_count": 54,
   "id": "12f4a417",
   "metadata": {},
   "outputs": [
    {
     "data": {
      "image/png": "[encoded data removed]",
      "text/plain": [
       "<Figure size 288x288 with 2 Axes>"
      ]
     },
     "metadata": {
      "needs_background": "light"
     },
     "output_type": "display_data"
    }
   ],
   "source": [
    "# Visualisasi \n",
    "import matplotlib.pyplot as plt\n",
    "\n",
    "plt.matshow(matrix)\n",
    "plt.colorbar()\n",
    "\n",
    "plt.title('Confusion Matrix')\n",
    "plt.ylabel('True label')\n",
    "plt.xlabel('Predicted label')\n",
    "\n",
    "plt.show()"
   ]
  },
  {
   "cell_type": "markdown",
   "id": "00a69a0c",
   "metadata": {},
   "source": [
    "###### Catatan \n",
    "0 = ham <br>\n",
    "1 = spam <br>\n",
    "kuning = TN <br> \n",
    "ungu muda = TP <br>\n",
    "ungu tua atas = FP <br>\n",
    "ungu tua bawah = FN "
   ]
  },
  {
   "cell_type": "markdown",
   "id": "4ed6ccb8",
   "metadata": {},
   "source": [
    "#### 2. Accuracy\n",
    "Mengukur porsi dari hasil prediksi yang tepat.\n",
    "<img src=\"accuracy.png\">"
   ]
  },
  {
   "cell_type": "code",
   "execution_count": 59,
   "id": "71b09f53",
   "metadata": {},
   "outputs": [
    {
     "name": "stdout",
     "output_type": "stream",
     "text": [
      "Accuracy: 96.48%\n"
     ]
    }
   ],
   "source": [
    "from sklearn.metrics import accuracy_score\n",
    "\n",
    "accuracy = accuracy_score(y_test, y_pred)\n",
    "\n",
    "print(f\"Accuracy: {accuracy:.2%}\")"
   ]
  },
  {
   "cell_type": "markdown",
   "id": "2d32b0bc",
   "metadata": {},
   "source": [
    "#### 3. Precission & Recall\n",
    "<strong>Precision</strong> adalah tingkat ketepatan antara informasi yang diminta oleh pengguna dengan jawaban yang diberikan oleh sistem. <br>\n",
    "<strong>Recall</strong> adalah tingkat keberhasilan sistem dalam menemukan kembali sebuah informasi.\n",
    "<img src=\"https://upload.wikimedia.org/wikipedia/commons/2/26/Precisionrecall.svg\" style=\"width:350px\">\n",
    "##### Precission or Positive Value (PPV) \n",
    "<img src=\"https://dataq.files.wordpress.com/2013/06/rumus.png\" style=\"width:350px\">"
   ]
  },
  {
   "cell_type": "code",
   "execution_count": 62,
   "id": "f6a1f22c",
   "metadata": {},
   "outputs": [
    {
     "name": "stdout",
     "output_type": "stream",
     "text": [
      "Precision: 99.28%\n"
     ]
    }
   ],
   "source": [
    "from sklearn.metrics import precision_score\n",
    "\n",
    "precision = precision_score(y_test, y_pred)\n",
    "\n",
    "print(f\"Precision: {precision:.2%}\")"
   ]
  },
  {
   "cell_type": "markdown",
   "id": "02ed7ed9",
   "metadata": {},
   "source": [
    "##### Recall of True Positive Rate (TPR) or Sensitivity"
   ]
  },
  {
   "cell_type": "code",
   "execution_count": 64,
   "id": "b9492c94",
   "metadata": {},
   "outputs": [
    {
     "name": "stdout",
     "output_type": "stream",
     "text": [
      "Recall: 74.05%\n"
     ]
    }
   ],
   "source": [
    "from sklearn.metrics import recall_score\n",
    "\n",
    "recall = recall_score(y_test, y_pred)\n",
    "\n",
    "print(f\"Recall: {recall:.2%}\")"
   ]
  },
  {
   "cell_type": "markdown",
   "id": "10f7bbb6",
   "metadata": {},
   "source": [
    "#### 4. F1-Score\n",
    "F1-meassure adalah harmonic mean dari precission dan recall.\n",
    "<img src=\"f1-score.png\">"
   ]
  },
  {
   "cell_type": "code",
   "execution_count": 66,
   "id": "4194ca75",
   "metadata": {},
   "outputs": [
    {
     "name": "stdout",
     "output_type": "stream",
     "text": [
      "F1-Score: 84.83%\n"
     ]
    }
   ],
   "source": [
    "from sklearn.metrics import f1_score\n",
    "\n",
    "f1 = f1_score(y_test, y_pred)\n",
    "\n",
    "print(f\"F1-Score: {f1:.2%}\")"
   ]
  },
  {
   "cell_type": "markdown",
   "id": "43d3041f",
   "metadata": {},
   "source": [
    "#### 5. ROC: Receiver Operating Characteristic\n",
    "ROC menawarkan visualisasi terhadap performa dari classifier dengan membandingkan nilai Recall (TPR) dan nilai Fallout (FPR).\n",
    "<img src=\"fallout.png\">\n",
    "<img src=\"roc.png\" style=\"width:350px\">"
   ]
  },
  {
   "cell_type": "markdown",
   "id": "3ba3c734",
   "metadata": {},
   "source": [
    "###### Catatan \n",
    "auc = area under the curve atau area yang berada di bawah garis warna biru."
   ]
  },
  {
   "cell_type": "code",
   "execution_count": 77,
   "id": "cbc0ff83",
   "metadata": {
    "scrolled": true
   },
   "outputs": [
    {
     "data": {
      "image/png": "[encoded data removed]",
      "text/plain": [
       "<Figure size 432x288 with 1 Axes>"
      ]
     },
     "metadata": {
      "needs_background": "light"
     },
     "output_type": "display_data"
    }
   ],
   "source": [
    "from sklearn.metrics import roc_curve, auc\n",
    "\n",
    "# proses kalkulasi\n",
    "prob_estimates = model.predict_proba(x_test_tfidf)\n",
    "\n",
    "fpr, tpr, threshold = roc_curve(y_test, prob_estimates[:, 1])\n",
    "nilai_auc = auc(fpr, tpr)\n",
    "\n",
    "# proses visualisasi\n",
    "plt.plot(fpr, tpr, 'b', label=f'AUC= {nilai_auc:.2}')\n",
    "plt.plot([0,1], [0,1], 'r--', label=\"Random Classifier\")\n",
    "\n",
    "plt.title('ROC: Receiver Operating Characteristic')\n",
    "plt.xlabel('Fallout or False Positive Rate')\n",
    "plt.ylabel('Recall or True Positive Rate')\n",
    "\n",
    "plt.legend()\n",
    "\n",
    "plt.show()"
   ]
  },
  {
   "cell_type": "code",
   "execution_count": null,
   "id": "d3745ae5",
   "metadata": {},
   "outputs": [],
   "source": []
  }
 ],
 "metadata": {
  "kernelspec": {
   "display_name": "Python 3",
   "language": "python",
   "name": "python3"
  },
  "language_info": {
   "codemirror_mode": {
    "name": "ipython",
    "version": 3
   },
   "file_extension": ".py",
   "mimetype": "text/x-python",
   "name": "python",
   "nbconvert_exporter": "python",
   "pygments_lexer": "ipython3",
   "version": "3.8.8"
  }
 },
 "nbformat": 4,
 "nbformat_minor": 5
}
