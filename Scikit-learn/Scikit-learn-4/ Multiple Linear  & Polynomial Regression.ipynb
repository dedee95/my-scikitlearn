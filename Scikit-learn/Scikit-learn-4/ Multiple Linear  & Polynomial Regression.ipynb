{
 "cells": [
  {
   "cell_type": "markdown",
   "id": "06d41dbf",
   "metadata": {},
   "source": [
    "#  Multiple Linear Regression & Polynomial Regression\n",
    "<strong>multiple linear regression</strong>= mirip seperti regresi linier, tetapi dengan lebih dari satu nilai independen, artinya prediksi nilai berdasarkan dua atau lebih variabel.<br>\n",
    "<strong>Polynomial Regression</strong> = Jika titik data Anda jelas tidak cocok dengan regresi linier (garis lurus melalui semua titik data), ini mungkin ideal untuk regresi polinomial. Regresi polinomial, seperti regresi linier, menggunakan hubungan antara variabel x dan y untuk menemukan cara terbaik untuk menggambar garis melalui titik data."
   ]
  },
  {
   "cell_type": "markdown",
   "id": "c4e5cf2a",
   "metadata": {},
   "source": [
    "### Sample Dataset"
   ]
  },
  {
   "cell_type": "markdown",
   "id": "fa46fbd9",
   "metadata": {},
   "source": [
    "#### Training Dataset\n",
    "karena nilai dari kategori berupa nilai continue dan bukan kategori maka digunakan regression"
   ]
  },
  {
   "cell_type": "code",
   "execution_count": 95,
   "id": "f3b11aaf",
   "metadata": {
    "slideshow": {
     "slide_type": "slide"
    }
   },
   "outputs": [
    {
     "data": {
      "text/html": [
       "<div>\n",
       "<style scoped>\n",
       "    .dataframe tbody tr th:only-of-type {\n",
       "        vertical-align: middle;\n",
       "    }\n",
       "\n",
       "    .dataframe tbody tr th {\n",
       "        vertical-align: top;\n",
       "    }\n",
       "\n",
       "    .dataframe thead th {\n",
       "        text-align: right;\n",
       "    }\n",
       "</style>\n",
       "<table border=\"1\" class=\"dataframe\">\n",
       "  <thead>\n",
       "    <tr style=\"text-align: right;\">\n",
       "      <th></th>\n",
       "      <th>diameter</th>\n",
       "      <th>n_topping</th>\n",
       "      <th>harga</th>\n",
       "    </tr>\n",
       "  </thead>\n",
       "  <tbody>\n",
       "    <tr>\n",
       "      <th>0</th>\n",
       "      <td>6</td>\n",
       "      <td>2</td>\n",
       "      <td>7.0</td>\n",
       "    </tr>\n",
       "    <tr>\n",
       "      <th>1</th>\n",
       "      <td>8</td>\n",
       "      <td>1</td>\n",
       "      <td>9.0</td>\n",
       "    </tr>\n",
       "    <tr>\n",
       "      <th>2</th>\n",
       "      <td>10</td>\n",
       "      <td>0</td>\n",
       "      <td>13.0</td>\n",
       "    </tr>\n",
       "    <tr>\n",
       "      <th>3</th>\n",
       "      <td>14</td>\n",
       "      <td>2</td>\n",
       "      <td>17.5</td>\n",
       "    </tr>\n",
       "    <tr>\n",
       "      <th>4</th>\n",
       "      <td>18</td>\n",
       "      <td>0</td>\n",
       "      <td>18.0</td>\n",
       "    </tr>\n",
       "  </tbody>\n",
       "</table>\n",
       "</div>"
      ],
      "text/plain": [
       "   diameter  n_topping  harga\n",
       "0         6          2    7.0\n",
       "1         8          1    9.0\n",
       "2        10          0   13.0\n",
       "3        14          2   17.5\n",
       "4        18          0   18.0"
      ]
     },
     "execution_count": 95,
     "metadata": {},
     "output_type": "execute_result"
    }
   ],
   "source": [
    "import pandas as pd\n",
    "\n",
    "pizza = {\n",
    "    'diameter': [6, 8, 10, 14, 18],\n",
    "    'n_topping': [2, 1, 0, 2, 0],\n",
    "    'harga': [7, 9, 13, 17.5, 18]\n",
    "}\n",
    "\n",
    "train_pizza_df = pd.DataFrame(pizza)\n",
    "train_pizza_df"
   ]
  },
  {
   "cell_type": "code",
   "execution_count": 96,
   "id": "321de32c",
   "metadata": {},
   "outputs": [
    {
     "data": {
      "text/html": [
       "<div>\n",
       "<style scoped>\n",
       "    .dataframe tbody tr th:only-of-type {\n",
       "        vertical-align: middle;\n",
       "    }\n",
       "\n",
       "    .dataframe tbody tr th {\n",
       "        vertical-align: top;\n",
       "    }\n",
       "\n",
       "    .dataframe thead th {\n",
       "        text-align: right;\n",
       "    }\n",
       "</style>\n",
       "<table border=\"1\" class=\"dataframe\">\n",
       "  <thead>\n",
       "    <tr style=\"text-align: right;\">\n",
       "      <th></th>\n",
       "      <th>diameter</th>\n",
       "      <th>n_topping</th>\n",
       "      <th>harga</th>\n",
       "    </tr>\n",
       "  </thead>\n",
       "  <tbody>\n",
       "    <tr>\n",
       "      <th>0</th>\n",
       "      <td>8</td>\n",
       "      <td>2</td>\n",
       "      <td>11.0</td>\n",
       "    </tr>\n",
       "    <tr>\n",
       "      <th>1</th>\n",
       "      <td>9</td>\n",
       "      <td>0</td>\n",
       "      <td>8.5</td>\n",
       "    </tr>\n",
       "    <tr>\n",
       "      <th>2</th>\n",
       "      <td>11</td>\n",
       "      <td>2</td>\n",
       "      <td>15.0</td>\n",
       "    </tr>\n",
       "    <tr>\n",
       "      <th>3</th>\n",
       "      <td>16</td>\n",
       "      <td>2</td>\n",
       "      <td>18.0</td>\n",
       "    </tr>\n",
       "    <tr>\n",
       "      <th>4</th>\n",
       "      <td>12</td>\n",
       "      <td>0</td>\n",
       "      <td>11.0</td>\n",
       "    </tr>\n",
       "  </tbody>\n",
       "</table>\n",
       "</div>"
      ],
      "text/plain": [
       "   diameter  n_topping  harga\n",
       "0         8          2   11.0\n",
       "1         9          0    8.5\n",
       "2        11          2   15.0\n",
       "3        16          2   18.0\n",
       "4        12          0   11.0"
      ]
     },
     "execution_count": 96,
     "metadata": {},
     "output_type": "execute_result"
    }
   ],
   "source": [
    "pizza = {\n",
    "    'diameter': [8, 9, 11, 16, 12],\n",
    "    'n_topping': [2, 0, 2, 2, 0],\n",
    "    'harga': [11, 8.5, 15, 18, 11]\n",
    "}\n",
    "\n",
    "test_pizza_df = pd.DataFrame(pizza)\n",
    "test_pizza_df"
   ]
  },
  {
   "cell_type": "markdown",
   "id": "ce4ac320",
   "metadata": {},
   "source": [
    "### Menyiapakan Features dan Target"
   ]
  },
  {
   "cell_type": "code",
   "execution_count": 97,
   "id": "e2905d96",
   "metadata": {},
   "outputs": [
    {
     "name": "stdout",
     "output_type": "stream",
     "text": [
      "x_train: \n",
      "[[ 6  2]\n",
      " [ 8  1]\n",
      " [10  0]\n",
      " [14  2]\n",
      " [18  0]]\n",
      "\n",
      "y_train: [ 7.   9.  13.  17.5 18. ]\n",
      "\n"
     ]
    }
   ],
   "source": [
    "# data untuk training\n",
    "import numpy as np\n",
    "x_train = np.array(train_pizza_df[['diameter', 'n_topping']]) # feature\n",
    "y_train = np.array(train_pizza_df['harga']) # target\n",
    "\n",
    "print(f\"x_train: \\n{x_train}\\n\")\n",
    "print(f\"y_train: {y_train}\\n\")"
   ]
  },
  {
   "cell_type": "code",
   "execution_count": 98,
   "id": "bab9f940",
   "metadata": {},
   "outputs": [
    {
     "name": "stdout",
     "output_type": "stream",
     "text": [
      "x_test: \n",
      "[[ 8  2]\n",
      " [ 9  0]\n",
      " [11  2]\n",
      " [16  2]\n",
      " [12  0]]\n",
      "\n",
      "y_test: [11.   8.5 15.  18.  11. ]\n",
      "\n"
     ]
    }
   ],
   "source": [
    "# data untuk testing\n",
    "x_test = np.array(test_pizza_df[['diameter', 'n_topping']]) # feature\n",
    "y_test = np.array(test_pizza_df['harga']) # target\n",
    "\n",
    "print(f\"x_test: \\n{x_test}\\n\")\n",
    "print(f\"y_test: {y_test}\\n\")"
   ]
  },
  {
   "cell_type": "markdown",
   "id": "a7d89218",
   "metadata": {},
   "source": [
    "### Multiple Linear Regression\n",
    "merupakan generalisasi dari simple linear regression yang memukinkan untuk menggunakan beberapa expalanatory variabel.\n",
    "<img src=\"multiple_linear.png\">"
   ]
  },
  {
   "cell_type": "code",
   "execution_count": 99,
   "id": "34f940a4",
   "metadata": {},
   "outputs": [
    {
     "data": {
      "text/plain": [
       "LinearRegression()"
      ]
     },
     "execution_count": 99,
     "metadata": {},
     "output_type": "execute_result"
    }
   ],
   "source": [
    "# membuat model \n",
    "from sklearn.linear_model import LinearRegression\n",
    "\n",
    "model = LinearRegression()\n",
    "model.fit(x_train, y_train)"
   ]
  },
  {
   "cell_type": "code",
   "execution_count": 100,
   "id": "d5ea68c4",
   "metadata": {},
   "outputs": [
    {
     "name": "stdout",
     "output_type": "stream",
     "text": [
      "r2_squared: 0.7701677731318468\n"
     ]
    }
   ],
   "source": [
    "# evaluasi efektiitas model\n",
    "from sklearn.metrics import r2_score\n",
    "\n",
    "y_pred = model.predict(x_test)\n",
    "r2_squared = r2_score(y_test, y_pred)\n",
    "\n",
    "# pengukuran performa\n",
    "print(f\"r2_squared: {r2_squared}\")"
   ]
  },
  {
   "cell_type": "markdown",
   "id": "e0d975bc",
   "metadata": {},
   "source": [
    "### Polynomial Regression\n",
    "merupakan permodelan hubungan antara independent variabel x dan dependent variabel y sebagai derajat polynomial dalam x.<br><br>\n",
    "independet = features<br>\n",
    "dependent = target"
   ]
  },
  {
   "cell_type": "markdown",
   "id": "193072bd",
   "metadata": {},
   "source": [
    "#### Preprocessing Dataset"
   ]
  },
  {
   "cell_type": "code",
   "execution_count": 101,
   "id": "cc029fe9",
   "metadata": {},
   "outputs": [
    {
     "name": "stdout",
     "output_type": "stream",
     "text": [
      "x_train: \n",
      "[[ 6]\n",
      " [ 8]\n",
      " [10]\n",
      " [14]\n",
      " [18]]\n",
      "\n",
      "y_train: [ 7.   9.  13.  17.5 18. ]\n",
      "\n"
     ]
    }
   ],
   "source": [
    "# data di pangkas untuk pemahaman\n",
    "x_train = np.array(train_pizza_df[['diameter']])\n",
    "y_test = np.array(train_pizza_df['harga'])\n",
    "\n",
    "print(f\"x_train: \\n{x_train}\\n\")\n",
    "print(f\"y_train: {y_train}\\n\")"
   ]
  },
  {
   "cell_type": "markdown",
   "id": "22f16099",
   "metadata": {},
   "source": [
    "### Polynomial Regression: Quadratic\n",
    "<img src=\"quadratic.png\">"
   ]
  },
  {
   "cell_type": "code",
   "execution_count": 102,
   "id": "7ae5df5d",
   "metadata": {},
   "outputs": [
    {
     "name": "stdout",
     "output_type": "stream",
     "text": [
      "x_train_quadratic: \n",
      "[[  1.   6.  36.]\n",
      " [  1.   8.  64.]\n",
      " [  1.  10. 100.]\n",
      " [  1.  14. 196.]\n",
      " [  1.  18. 324.]]\n"
     ]
    }
   ],
   "source": [
    "# polynomial feature\n",
    "from sklearn.preprocessing import PolynomialFeatures\n",
    "\n",
    "quadratic_feature = PolynomialFeatures(degree=2) # degree 2 karena yang digunakan quadratic\n",
    "x_train_quadratic = quadratic_feature.fit_transform(x_train)\n",
    "\n",
    "print(f\"x_train_quadratic: \\n{x_train_quadratic}\")"
   ]
  },
  {
   "cell_type": "code",
   "execution_count": 103,
   "id": "92f77c94",
   "metadata": {},
   "outputs": [
    {
     "data": {
      "text/plain": [
       "LinearRegression()"
      ]
     },
     "execution_count": 103,
     "metadata": {},
     "output_type": "execute_result"
    }
   ],
   "source": [
    "# membuat dan mentrain model\n",
    "model = LinearRegression() \n",
    "model.fit(x_train_quadratic, y_train)"
   ]
  },
  {
   "cell_type": "markdown",
   "id": "8f55f0f5",
   "metadata": {},
   "source": [
    "### Visualisasi Model"
   ]
  },
  {
   "cell_type": "code",
   "execution_count": 104,
   "id": "ed25a99d",
   "metadata": {},
   "outputs": [
    {
     "data": {
      "image/png": "[encoded data removed]",
      "text/plain": [
       "<Figure size 432x288 with 1 Axes>"
      ]
     },
     "metadata": {
      "needs_background": "light"
     },
     "output_type": "display_data"
    }
   ],
   "source": [
    "import matplotlib.pyplot as plt\n",
    "\n",
    "x_vis = np.linspace(0, 25, 100).reshape(-1, 1) # feature yang akan di prediksi\n",
    "x_vis_quadratic = quadratic_feature.transform(x_vis)\n",
    "y_vis_quadratic = model.predict(x_vis_quadratic)\n",
    "\n",
    "plt.scatter(x_train, y_train)\n",
    "plt.plot(x_vis, y_vis_quadratic, 'r')\n",
    "\n",
    "plt.title(\"Perbandingan Diameter dan Harga Pizza\")\n",
    "plt.xlabel(\"Diameter (inch)\")\n",
    "plt.ylabel(\"Harga ($)\")\n",
    "\n",
    "plt.xlim(0, 25)\n",
    "plt.ylim(0, 25)\n",
    "\n",
    "plt.grid(True)\n",
    "\n",
    "plt.show()"
   ]
  },
  {
   "cell_type": "markdown",
   "id": "86cb7cb7",
   "metadata": {},
   "source": [
    "### Polynomial Regression: Quadratic vs Cubic"
   ]
  },
  {
   "cell_type": "code",
   "execution_count": 107,
   "id": "c5522694",
   "metadata": {},
   "outputs": [
    {
     "data": {
      "image/png": "[encoded data removed]",
      "text/plain": [
       "<Figure size 432x288 with 1 Axes>"
      ]
     },
     "metadata": {
      "needs_background": "light"
     },
     "output_type": "display_data"
    }
   ],
   "source": [
    "# training set\n",
    "plt.scatter(x_train, y_train)\n",
    "\n",
    "# linear\n",
    "model = LinearRegression()\n",
    "model.fit(x_train, y_train)\n",
    "\n",
    "x_vis = np.linspace(0, 25, 100).reshape(-1, 1)\n",
    "y_vis = model.predict(x_vis)\n",
    "plt.plot(x_vis, y_vis, '--r', label='linear')\n",
    "\n",
    "\n",
    "# Quadratic\n",
    "quadratic_feature = PolynomialFeatures(degree=2)\n",
    "x_train_quadratic = quadratic_feature.fit_transform(x_train)\n",
    "model = LinearRegression()\n",
    "model.fit(x_train_quadratic, y_train)\n",
    "\n",
    "x_vis_quadratic = quadratic_feature.transform(x_vis)\n",
    "y_vis_quadratic = model.predict(x_vis_quadratic)\n",
    "plt.plot(x_vis, y_vis_quadratic, '--g', label='quadratic')\n",
    "\n",
    "\n",
    "# Cubic\n",
    "cubic_feature = PolynomialFeatures(degree=3)\n",
    "x_train_cubic = cubic_feature.fit_transform(x_train)\n",
    "model = LinearRegression()\n",
    "model.fit(x_train_cubic, y_train)\n",
    "\n",
    "x_vis_cubic = cubic_feature.transform(x_vis)\n",
    "y_vis_cubic = model.predict(x_vis_cubic)\n",
    "plt.plot(x_vis, y_vis_cubic, '--y', label='cubic')\n",
    "\n",
    "\n",
    "# settingan grafik\n",
    "plt.xlim(0, 25)\n",
    "plt.ylim(0, 25)\n",
    "plt.grid(True)\n",
    "plt.legend(loc='upper left')\n",
    "plt.show()"
   ]
  },
  {
   "cell_type": "code",
   "execution_count": null,
   "id": "88fa7a13",
   "metadata": {},
   "outputs": [],
   "source": []
  }
 ],
 "metadata": {
  "kernelspec": {
   "display_name": "Python 3",
   "language": "python",
   "name": "python3"
  },
  "language_info": {
   "codemirror_mode": {
    "name": "ipython",
    "version": 3
   },
   "file_extension": ".py",
   "mimetype": "text/x-python",
   "name": "python",
   "nbconvert_exporter": "python",
   "pygments_lexer": "ipython3",
   "version": "3.8.8"
  }
 },
 "nbformat": 4,
 "nbformat_minor": 5
}
